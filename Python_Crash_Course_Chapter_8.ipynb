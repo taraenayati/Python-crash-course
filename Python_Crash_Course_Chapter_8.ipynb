{
  "cells": [
    {
      "cell_type": "markdown",
      "metadata": {
        "id": "view-in-github",
        "colab_type": "text"
      },
      "source": [
        "<a href=\"https://colab.research.google.com/github/taraenayati/Python-crash-course/blob/main/Python_Crash_Course_Chapter_8.ipynb\" target=\"_parent\"><img src=\"https://colab.research.google.com/assets/colab-badge.svg\" alt=\"Open In Colab\"/></a>"
      ]
    },
    {
      "cell_type": "markdown",
      "metadata": {
        "id": "V9GhXfpY5RbK"
      },
      "source": []
    },
    {
      "cell_type": "code",
      "execution_count": null,
      "metadata": {
        "colab": {
          "base_uri": "https://localhost:8080/"
        },
        "id": "hyhaJ7IS5LHg",
        "outputId": "afc62a87-474e-4283-aa5d-734c543bd81b"
      },
      "outputs": [
        {
          "name": "stdout",
          "output_type": "stream",
          "text": [
            "Hello!\n"
          ]
        }
      ],
      "source": [
        "def greet_user():\n",
        " \"\"\"Display a simple greeting.\"\"\"\n",
        " print(\"Hello!\")\n",
        "greet_user()"
      ]
    },
    {
      "cell_type": "markdown",
      "metadata": {
        "id": "Gz1It6NMvHlN"
      },
      "source": [
        "8-1. Message: Write a function called display_message() that prints one sen\u0002tence telling everyone what you are learning about in this chapter. Call the\n",
        "function, and make sure the message displays correctly.\n"
      ]
    },
    {
      "cell_type": "code",
      "execution_count": null,
      "metadata": {
        "colab": {
          "base_uri": "https://localhost:8080/"
        },
        "id": "HBmDKmwYvMMA",
        "outputId": "74ea9472-f7c0-4383-d6ef-3dc90d4d486f"
      },
      "outputs": [
        {
          "name": "stdout",
          "output_type": "stream",
          "text": [
            " I am learning functions in this chapter.\n"
          ]
        }
      ],
      "source": [
        "def display_message(subject):\n",
        "  print(f\" I am learning {subject} in this chapter.\")\n",
        "display_message('functions')"
      ]
    },
    {
      "cell_type": "markdown",
      "metadata": {
        "id": "qhD0xX7TvMkH"
      },
      "source": [
        "8-2. Favorite Book: Write a function called favorite_book() that accepts one\n",
        "parameter, title. The function should print a message, such as One of my\n",
        "favorite books is Alice in Wonderland. Call the function, making sure to\n",
        "include a book title as an argument in the function call."
      ]
    },
    {
      "cell_type": "code",
      "execution_count": null,
      "metadata": {
        "colab": {
          "base_uri": "https://localhost:8080/"
        },
        "id": "ir8wl-ZUvNyF",
        "outputId": "5422f39c-b8a7-4bb4-8049-559bc087695b"
      },
      "outputs": [
        {
          "name": "stdout",
          "output_type": "stream",
          "text": [
            "t\\One of my favorite books is 100% match,believe me!\n"
          ]
        }
      ],
      "source": [
        "def favorite_book(title):\n",
        "  print(f\"t\\One of my favorite books is {title},believe me!\")\n",
        "favorite_book(\"100% match\")\n",
        "\n"
      ]
    },
    {
      "cell_type": "code",
      "execution_count": null,
      "metadata": {
        "colab": {
          "base_uri": "https://localhost:8080/"
        },
        "id": "_P5oTKtJyHzo",
        "outputId": "d76fa932-5b03-4d2d-e755-33fa0e202952"
      },
      "outputs": [
        {
          "name": "stdout",
          "output_type": "stream",
          "text": [
            "\n",
            "I have a cat.\n",
            "My cat's name is Hassan.\n"
          ]
        }
      ],
      "source": [
        "def describe_pet(animal_type, pet_name):\n",
        " \"\"\"Display information about a pet.\"\"\"\n",
        " print(f\"\\nI have a {animal_type}.\")\n",
        " print(f\"My {animal_type}'s name is {pet_name.title()}.\")\n",
        "\n",
        "describe_pet('cat', 'Hassan')"
      ]
    },
    {
      "cell_type": "code",
      "execution_count": null,
      "metadata": {
        "colab": {
          "base_uri": "https://localhost:8080/"
        },
        "id": "31UT5dmUyUlc",
        "outputId": "cea8a7f6-92e6-4d26-ca24-f9cb910b1362"
      },
      "outputs": [
        {
          "name": "stdout",
          "output_type": "stream",
          "text": [
            "\n",
            "I have a dog.\n",
            "My dog's name is Willie.\n"
          ]
        }
      ],
      "source": [
        "def describe_pet(pet_name, animal_type='dog'):\n",
        " \"\"\"Display information about a pet.\"\"\"\n",
        " print(f\"\\nI have a {animal_type}.\")\n",
        " print(f\"My {animal_type}'s name is {pet_name.title()}.\")\n",
        "describe_pet(pet_name='willie')"
      ]
    },
    {
      "cell_type": "code",
      "execution_count": null,
      "metadata": {
        "colab": {
          "base_uri": "https://localhost:8080/"
        },
        "id": "jElMCRPFKXp6",
        "outputId": "c055f6e6-4349-4f0a-d65a-e8de5f326348"
      },
      "outputs": [
        {
          "name": "stdout",
          "output_type": "stream",
          "text": [
            "\n",
            "I have a dog.\n",
            "My dog's name is Willie.\n",
            "\n",
            "I have a dog.\n",
            "My dog's name is Willie.\n",
            "\n",
            "I have a hamster.\n",
            "My hamster's name is Harry.\n",
            "\n",
            "I have a hamster.\n",
            "My hamster's name is Harry.\n",
            "\n",
            "I have a hamster.\n",
            "My hamster's name is Harry.\n"
          ]
        }
      ],
      "source": [
        "# A dog named Willie.\n",
        "describe_pet('willie')\n",
        "describe_pet(pet_name='willie')\n",
        "# A hamster named Harry.\n",
        "describe_pet('harry', 'hamster')\n",
        "describe_pet(pet_name='harry', animal_type='hamster')\n",
        "describe_pet(animal_type='hamster', pet_name='harry')"
      ]
    },
    {
      "cell_type": "code",
      "execution_count": null,
      "metadata": {
        "colab": {
          "base_uri": "https://localhost:8080/"
        },
        "id": "F3SL1ncrLRql",
        "outputId": "3524713a-b602-485e-ebdb-85f104c3d84a"
      },
      "outputs": [
        {
          "name": "stdout",
          "output_type": "stream",
          "text": [
            "\n",
            "I have a Cat.\n",
            "My Cat's name is Hassan.\n"
          ]
        }
      ],
      "source": [
        "def describe_pet(animal_type, pet_name):\n",
        " \"\"\"Display information about a pet.\"\"\"\n",
        " print(f\"\\nI have a {animal_type}.\")\n",
        " print(f\"My {animal_type}'s name is {pet_name.title()}.\")\n",
        "\n",
        "\n",
        "describe_pet('Cat','Hassan')"
      ]
    },
    {
      "cell_type": "markdown",
      "metadata": {
        "id": "RHxON5t3L4AH"
      },
      "source": [
        "8-3. T-Shirt: Write a function called make_shirt() that accepts a size and the\n",
        "text of a message that should be printed on the shirt. The function should print a\n",
        "sentence summarizing the size of the shirt and the message printed on it.\n",
        "Call the function once using positional arguments to make a shirt. Call the\n",
        "function a second time using keyword arguments.\n"
      ]
    },
    {
      "cell_type": "code",
      "execution_count": null,
      "metadata": {
        "colab": {
          "base_uri": "https://localhost:8080/"
        },
        "id": "ExYqs9JaRBg4",
        "outputId": "545818b0-8e2f-4f40-9e78-b15857d7912c"
      },
      "outputs": [
        {
          "name": "stdout",
          "output_type": "stream",
          "text": [
            "The size of the shirt is Large and the text is I Love Newyork.\n",
            "The size of the shirt is Large and the text is I Love Newyork.\n"
          ]
        }
      ],
      "source": [
        "def make_shirt(size, text):\n",
        "  print(f\"The size of the shirt is {size.title()} and the text is {text.title()}.\")\n",
        "make_shirt(size = \"large\" , text = \"I love NewYork\")\n",
        "make_shirt('large', 'I love NewYork')"
      ]
    },
    {
      "cell_type": "markdown",
      "metadata": {
        "id": "S12Jg1N3L4_q"
      },
      "source": [
        "8-4. Large Shirts: Modify the make_shirt() function so that shirts are large\n",
        "by default with a message that reads I love Python. Make a large shirt and a\n",
        "medium shirt with the default message, and a shirt of any size with a different\n",
        "message."
      ]
    },
    {
      "cell_type": "code",
      "execution_count": null,
      "metadata": {
        "colab": {
          "base_uri": "https://localhost:8080/"
        },
        "id": "lg4zpEffL7wS",
        "outputId": "82ea6124-3ba8-4535-cb53-8383f6aa01f9"
      },
      "outputs": [
        {
          "name": "stdout",
          "output_type": "stream",
          "text": [
            "The size of the shirt is Large and the text is I Love Python.\n",
            "The size of the shirt is Medium and the text is I Love Python.\n",
            "The size of the shirt is Large and the text is I Love Newyork.\n"
          ]
        }
      ],
      "source": [
        "def make_shirt(size = \"large\", text = \"I love Python\"):\n",
        "  print(f\"The size of the shirt is {size.title()} and the text is {text.title()}.\")\n",
        "make_shirt()\n",
        "make_shirt(size = \"medium\")\n",
        "make_shirt(text = \"I love newyork\")"
      ]
    },
    {
      "cell_type": "markdown",
      "metadata": {
        "id": "HQ-SFihUL-Im"
      },
      "source": [
        "8-5. Cities: Write a function called describe_city() that accepts the name of\n",
        "a city and its country. The function should print a simple sentence, such as\n",
        "Reykjavik is in Iceland. Give the parameter for the country a default value.\n",
        "Call your function for three different cities, at least one of which is not in the\n",
        "default country."
      ]
    },
    {
      "cell_type": "code",
      "execution_count": null,
      "metadata": {
        "colab": {
          "base_uri": "https://localhost:8080/"
        },
        "id": "-po9MyozQ8Uv",
        "outputId": "e384fd4d-4d56-4efe-c0cf-9f850e022669"
      },
      "outputs": [
        {
          "name": "stdout",
          "output_type": "stream",
          "text": [
            "Newyork is in Usa.\n",
            "Chicago is in Usa.\n",
            "Newyork is in America.\n"
          ]
        }
      ],
      "source": [
        "def describe_city(name = 'NewYork' , country = 'USA' ):\n",
        "  print(f\"{name.title()} is in {country.title()}.\")\n",
        "describe_city()\n",
        "describe_city(name = 'Chicago')\n",
        "describe_city(country = 'America')\n"
      ]
    },
    {
      "cell_type": "code",
      "execution_count": null,
      "metadata": {
        "colab": {
          "base_uri": "https://localhost:8080/"
        },
        "id": "ElpWf0k-SOJu",
        "outputId": "3c1d57a7-0d41-4621-f1fd-125ea365968b"
      },
      "outputs": [
        {
          "name": "stdout",
          "output_type": "stream",
          "text": [
            "Jimi Hendrix\n"
          ]
        }
      ],
      "source": [
        "def get_formatted_name(first_name, last_name):\n",
        " \"\"\"Return a full name, neatly formatted.\"\"\"\n",
        " full_name = f\"{first_name} {last_name}\"\n",
        " return full_name.title()\n",
        "musician = get_formatted_name('jimi', 'hendrix')\n",
        "print(musician)"
      ]
    },
    {
      "cell_type": "code",
      "execution_count": null,
      "metadata": {
        "colab": {
          "base_uri": "https://localhost:8080/"
        },
        "id": "lfvD-lYPfhHe",
        "outputId": "166b2d8c-6986-4ea4-fa20-709eafb1ecd9"
      },
      "outputs": [
        {
          "name": "stdout",
          "output_type": "stream",
          "text": [
            "John Lee Hooker\n"
          ]
        }
      ],
      "source": [
        "def get_formatted_name(first_name, middle_name, last_name):\n",
        " \"\"\"Return a full name, neatly formatted.\"\"\"\n",
        " full_name = f\"{first_name} {middle_name} {last_name}\"\n",
        " return full_name.title()\n",
        "musician = get_formatted_name('john', 'lee', 'hooker')\n",
        "print(musician)"
      ]
    },
    {
      "cell_type": "code",
      "execution_count": null,
      "metadata": {
        "colab": {
          "base_uri": "https://localhost:8080/"
        },
        "id": "x5eoRcGPq7dq",
        "outputId": "cac83095-ffff-4d66-b20c-57fd9716949b"
      },
      "outputs": [
        {
          "name": "stdout",
          "output_type": "stream",
          "text": [
            "Jimi Hendrix\n",
            "John Lee Hooker\n"
          ]
        }
      ],
      "source": [
        "def get_formatted_name(first_name, last_name, middle_name=''):\n",
        "   if middle_name:\n",
        "    full_name = f\"{first_name} {middle_name} {last_name}\"\n",
        "   else:\n",
        "    full_name = f\"{first_name} {last_name}\"\n",
        "   return full_name.title()\n",
        "\n",
        "musician = get_formatted_name('jimi', 'hendrix')\n",
        "print(musician)\n",
        "musician = get_formatted_name('john', 'hooker', 'lee')\n",
        "print(musician)\n"
      ]
    },
    {
      "cell_type": "code",
      "execution_count": null,
      "metadata": {
        "colab": {
          "base_uri": "https://localhost:8080/"
        },
        "id": "C_J9u_r6O9mi",
        "outputId": "e78bcbf8-2114-44c7-a052-b1272b17c442"
      },
      "outputs": [
        {
          "name": "stdout",
          "output_type": "stream",
          "text": [
            "{'first': 'jimi', 'last': 'hendrix'}\n"
          ]
        }
      ],
      "source": [
        "def build_person(first_name, last_name):\n",
        "  person = {'first': first_name, 'last': last_name}\n",
        "  return person\n",
        "\n",
        "musician = build_person('jimi', 'hendrix')\n",
        "print(musician)"
      ]
    },
    {
      "cell_type": "code",
      "execution_count": null,
      "metadata": {
        "colab": {
          "base_uri": "https://localhost:8080/"
        },
        "id": "osNnRo-eh4aX",
        "outputId": "ad574418-2586-483d-87da-0a956264b331"
      },
      "outputs": [
        {
          "name": "stdout",
          "output_type": "stream",
          "text": [
            "{'first': 'jimi', 'last': 'hendrix', 'age': 27}\n"
          ]
        }
      ],
      "source": [
        "def build_person(first_name, last_name, age=None):\n",
        " person = {'first': first_name, 'last': last_name}\n",
        " if age:\n",
        "   person['age'] = age\n",
        " return person\n",
        "musician = build_person('jimi', 'hendrix', age=27)\n",
        "print(musician)"
      ]
    },
    {
      "cell_type": "code",
      "execution_count": null,
      "metadata": {
        "colab": {
          "base_uri": "https://localhost:8080/"
        },
        "id": "2jLYje3RiUIF",
        "outputId": "6c242a06-68c4-42a7-bdaa-f86928cc2e8d"
      },
      "outputs": [
        {
          "name": "stdout",
          "output_type": "stream",
          "text": [
            "\n",
            "Please tell me your name:\n",
            "(enter 'q' at any time to quit)\n",
            "First name: tara\n",
            "Last name: enayati\n",
            "\n",
            "Hello, Tara Enayati!\n",
            "\n",
            "Please tell me your name:\n",
            "(enter 'q' at any time to quit)\n",
            "First name: q\n"
          ]
        }
      ],
      "source": [
        "def get_formatted_name(first_name, last_name):\n",
        "\n",
        " full_name = f\"{first_name} {last_name}\"\n",
        " return full_name.title()\n",
        "while True:\n",
        " print(\"\\nPlease tell me your name:\")\n",
        " print(\"(enter 'q' at any time to quit)\")\n",
        " f_name = input(\"First name: \")\n",
        " if f_name == 'q':\n",
        "   break\n",
        " l_name = input(\"Last name: \")\n",
        " if l_name == 'q':\n",
        "   break\n",
        " formatted_name = get_formatted_name(f_name, l_name)\n",
        " print(f\"\\nHello, {formatted_name}!\")"
      ]
    },
    {
      "cell_type": "markdown",
      "metadata": {
        "id": "wI2FhUY_jsGu"
      },
      "source": [
        "8-6. City Names: Write a function called city_country() that takes in the name\n",
        "of a city and its country. The function should return a string formatted like this:\n",
        "\"Santiago, Chile\"\n",
        "Call your function with at least three city-country pairs, and print the values\n",
        "that are returned.\n",
        "(continued)\n",
        "142   Chapter 8\n"
      ]
    },
    {
      "cell_type": "code",
      "execution_count": null,
      "metadata": {
        "colab": {
          "base_uri": "https://localhost:8080/"
        },
        "id": "TSqjBVWej6m4",
        "outputId": "cb18ab3e-8f0b-4719-c93d-3c535e80add4"
      },
      "outputs": [
        {
          "name": "stdout",
          "output_type": "stream",
          "text": [
            "Santiago, Chile\n",
            "Paris, France\n",
            "Tokyo, Japan\n"
          ]
        }
      ],
      "source": [
        "def city_country(city, country):\n",
        "    \"\"\"Return a string formatted as 'City, Country'.\"\"\"\n",
        "    return f\"{city}, {country}\"\n",
        "\n",
        "print(city_country(\"Santiago\", \"Chile\"))\n",
        "print(city_country(\"Paris\", \"France\"))\n",
        "print(city_country(\"Tokyo\", \"Japan\"))"
      ]
    },
    {
      "cell_type": "markdown",
      "metadata": {
        "id": "ChyANDz7jr69"
      },
      "source": [
        "8-7. Album: Write a function called make_album() that builds a dictionary\n",
        "describing a music album. The function should take in an artist name and an\n",
        "album title, and it should return a dictionary containing these two pieces of\n",
        "information. Use the function to make three dictionaries representing different\n",
        "albums. Print each return value to show that the dictionaries are storing the\n",
        "album information correctly.\n",
        "Use None to add an optional parameter to make_album() that allows you to\n",
        "store the number of songs on an album. If the calling line includes a value for\n",
        "the number of songs, add that value to the album’s dictionary. Make at least\n",
        "one new function call that includes the number of songs on an album."
      ]
    },
    {
      "cell_type": "code",
      "execution_count": null,
      "metadata": {
        "colab": {
          "base_uri": "https://localhost:8080/"
        },
        "id": "Z5y0l4Yaj7UF",
        "outputId": "5a187d0d-e815-4771-ecdd-930889d48346"
      },
      "outputs": [
        {
          "data": {
            "text/plain": [
              "{'artist': 'Adele', 'album': '21', 'number_song': 8}"
            ]
          },
          "execution_count": 20,
          "metadata": {},
          "output_type": "execute_result"
        }
      ],
      "source": [
        "def make_album(artist, album, number_song = ''):\n",
        "  if number_song:\n",
        "    album = {'artist': artist, 'album': album, 'number_song': number_song}\n",
        "  else:\n",
        "    album = {'artist': artist, 'album': album}\n",
        "  return album\n",
        "\n",
        "make_album('Adele', '21', number_song = 8)"
      ]
    },
    {
      "cell_type": "code",
      "execution_count": null,
      "metadata": {
        "colab": {
          "base_uri": "https://localhost:8080/"
        },
        "id": "iaw6f_5VmcnC",
        "outputId": "01b2c801-63e5-4d18-b5fb-c3434effec74"
      },
      "outputs": [
        {
          "name": "stdout",
          "output_type": "stream",
          "text": [
            "{'artist': 'Pink Floyd', 'title': 'The Dark Side of the Moon'}\n",
            "{'artist': 'The Beatles', 'title': 'Abbey Road'}\n",
            "{'artist': 'Radiohead', 'title': 'OK Computer', 'num_songs': 12}\n"
          ]
        }
      ],
      "source": [
        "def make_album(artist, title, num_songs=None):\n",
        "    album = {'artist': artist, 'title': title}\n",
        "    if num_songs:\n",
        "        album['num_songs'] = num_songs\n",
        "    return album\n",
        "\n",
        "\n",
        "album1 = make_album('Pink Floyd', 'The Dark Side of the Moon')\n",
        "album2 = make_album('The Beatles', 'Abbey Road')\n",
        "album3 = make_album('Radiohead', 'OK Computer', 12)\n",
        "\n",
        "\n",
        "print(album1)\n",
        "print(album2)\n",
        "print(album3)"
      ]
    },
    {
      "cell_type": "markdown",
      "metadata": {
        "id": "625pI3HbjruX"
      },
      "source": [
        "8-8. User Albums: Start with your program from Exercise 8-7. Write a while loop that allows users to enter an album’s artist and title. Once you have that information, call make_album() with the user’s input and print the dictionary that’s created. Be sure to include a quit value in the while loop."
      ]
    },
    {
      "cell_type": "code",
      "execution_count": null,
      "metadata": {
        "colab": {
          "base_uri": "https://localhost:8080/"
        },
        "id": "CUv4Ac9Fj794",
        "outputId": "ba60205a-f54b-48a1-9015-dc3214b7bcd8"
      },
      "outputs": [
        {
          "name": "stdout",
          "output_type": "stream",
          "text": [
            "\n",
            "Enter album information:\n",
            "(enter 'q' at any time to quit)\n",
            "\n",
            "Artist name: 455\n",
            "Album title: 5545\n",
            "\n",
            "Album information: {'artist': '455', 'title': '5545'}\n",
            "\n",
            "Artist name: q\n"
          ]
        }
      ],
      "source": [
        "def make_album(artist, title, tracks=None):\n",
        "    album_dict = {'artist': artist, 'title': title}\n",
        "    if tracks:\n",
        "       album_dict['tracks'] = tracks\n",
        "    return album_dict\n",
        "\n",
        "print(\"\\nEnter album information:\")\n",
        "print(\"(enter 'q' at any time to quit)\")\n",
        "\n",
        "while True:\n",
        "    artist = input(\"\\nArtist name: \")\n",
        "    if artist == 'q':\n",
        "        break\n",
        "\n",
        "    title = input(\"Album title: \")\n",
        "    if title == 'q':\n",
        "        break\n",
        "\n",
        "    album = make_album(artist, title)\n",
        "    print(f\"\\nAlbum information: {album}\")"
      ]
    },
    {
      "cell_type": "code",
      "execution_count": null,
      "metadata": {
        "colab": {
          "base_uri": "https://localhost:8080/"
        },
        "id": "giH6-ljX_uEN",
        "outputId": "233e5a76-621e-472a-a1f9-7ad603b8a800"
      },
      "outputs": [
        {
          "name": "stdout",
          "output_type": "stream",
          "text": [
            "Hello, Hannah!\n",
            "Hello, Ty!\n",
            "Hello, Margot!\n"
          ]
        }
      ],
      "source": [
        "def greet_users(names):\n",
        " \"\"\"Print a simple greeting to each user in the list.\"\"\"\n",
        " for name in names:\n",
        "  msg = f\"Hello, {name.title()}!\"\n",
        "  print(msg)\n",
        "\n",
        "usernames = ['hannah', 'ty', 'margot']\n",
        "greet_users(usernames)"
      ]
    },
    {
      "cell_type": "code",
      "execution_count": null,
      "metadata": {
        "colab": {
          "base_uri": "https://localhost:8080/"
        },
        "id": "xBsJAT36DCfw",
        "outputId": "7f89f309-935d-406e-acd2-2b62d99cb126"
      },
      "outputs": [
        {
          "name": "stdout",
          "output_type": "stream",
          "text": [
            "Printing model: dodecahedron\n",
            "Printing model: robot pendant\n",
            "Printing model: phone case\n",
            "\n",
            "The following models have been printed:\n",
            "dodecahedron\n",
            "robot pendant\n",
            "phone case\n"
          ]
        }
      ],
      "source": [
        "unprinted_designs = ['phone case', 'robot pendant', 'dodecahedron']\n",
        "completed_models = []\n",
        "# Simulate printing each design, until none are left.\n",
        "# Move each design to completed_models after printing.\n",
        "while unprinted_designs:\n",
        " current_design = unprinted_designs.pop()\n",
        " print(f\"Printing model: {current_design}\")\n",
        " completed_models.append(current_design)\n",
        "# Display all completed models.\n",
        "print(\"\\nThe following models have been printed:\")\n",
        "for completed_model in completed_models:\n",
        " print(completed_model)"
      ]
    },
    {
      "cell_type": "markdown",
      "metadata": {
        "id": "1KBYUkWeLWWN"
      },
      "source": [
        "8-9. Messages: Make a list containing a series of short text messages. Pass the\n",
        "list to a function called show_messages(), which prints each text message."
      ]
    },
    {
      "cell_type": "code",
      "execution_count": null,
      "metadata": {
        "colab": {
          "base_uri": "https://localhost:8080/"
        },
        "id": "WDiybR6YLYk-",
        "outputId": "2b2e645c-23bf-4210-9ec7-ba9024774aa2"
      },
      "outputs": [
        {
          "name": "stdout",
          "output_type": "stream",
          "text": [
            "Hello there!\n",
            "How are you doing today?\n",
            "Python is awesome!\n",
            "Learning to code is fun.\n",
            "Have a great day!\n"
          ]
        }
      ],
      "source": [
        "# Define a list of short text messages\n",
        "messages = [\n",
        "    \"Hello there!\",\n",
        "    \"How are you doing today?\",\n",
        "    \"Python is awesome!\",\n",
        "    \"Learning to code is fun.\",\n",
        "    \"Have a great day!\"\n",
        "]\n",
        "\n",
        "# Define a function to display the messages\n",
        "def show_messages(message_list):\n",
        "    \"\"\"Print each message in the provided list.\"\"\"\n",
        "    for message in message_list:\n",
        "        print(message)\n",
        "\n",
        "# Call the function with our list of messages\n",
        "show_messages(messages)\n"
      ]
    },
    {
      "cell_type": "markdown",
      "metadata": {
        "id": "H7HQSguvLZEC"
      },
      "source": [
        "8-10. Sending Messages: Start with a copy of your program from Exercise 8-9.\n",
        "Write a function called send_messages() that prints each text message and\n",
        "moves each message to a new list called sent_messages as it’s printed. After\n",
        "calling the function, print both of your lists to make sure the messages were\n",
        "moved correctly."
      ]
    },
    {
      "cell_type": "code",
      "execution_count": null,
      "metadata": {
        "colab": {
          "base_uri": "https://localhost:8080/"
        },
        "id": "U9tPay8LLcYk",
        "outputId": "193cf683-cfee-4439-8d76-131401f4e154"
      },
      "outputs": [
        {
          "name": "stdout",
          "output_type": "stream",
          "text": [
            "Original messages:\n",
            "Hello, how are you?\n",
            "I'm learning Python!\n",
            "Functions are really useful.\n",
            "Have a great day!\n",
            "\n",
            "Sending messages:\n",
            "Hello, how are you?\n",
            "I'm learning Python!\n",
            "Functions are really useful.\n",
            "Have a great day!\n",
            "\n",
            "After sending:\n",
            "text_messages: []\n",
            "sent_messages: ['Hello, how are you?', \"I'm learning Python!\", 'Functions are really useful.', 'Have a great day!']\n"
          ]
        }
      ],
      "source": [
        "def show_messages(messages):\n",
        "    \"\"\"Print all messages in the list.\"\"\"\n",
        "    for message in messages:\n",
        "        print(message)\n",
        "\n",
        "def send_messages(messages, sent_messages):\n",
        "    \"\"\"\n",
        "    Print each message and move it to the sent_messages list.\n",
        "    \"\"\"\n",
        "    while messages:\n",
        "        current_message = messages.pop(0)\n",
        "        print(current_message)\n",
        "        sent_messages.append(current_message)\n",
        "\n",
        "# Create a list of text messages\n",
        "text_messages = [\n",
        "    \"Hello, how are you?\",\n",
        "    \"I'm learning Python!\",\n",
        "    \"Functions are really useful.\",\n",
        "    \"Have a great day!\"\n",
        "]\n",
        "\n",
        "# Create an empty list to store sent messages\n",
        "sent_messages = []\n",
        "\n",
        "# Display the original messages\n",
        "print(\"Original messages:\")\n",
        "show_messages(text_messages)\n",
        "\n",
        "# Send the messages and move them to sent_messages list\n",
        "print(\"\\nSending messages:\")\n",
        "send_messages(text_messages, sent_messages)\n",
        "\n",
        "# Verify that messages were moved correctly\n",
        "print(\"\\nAfter sending:\")\n",
        "print(\"text_messages:\", text_messages)\n",
        "print(\"sent_messages:\", sent_messages)\n"
      ]
    },
    {
      "cell_type": "markdown",
      "metadata": {
        "id": "Zz1x9b1sLcsU"
      },
      "source": [
        "8-11. Archived Messages: Start with your work from Exercise 8-10. Call the func\u0002tion send_messages() with a copy of the list of messages. After calling the func\u0002tion, print both of your lists to show that the original list has retained its messages."
      ]
    },
    {
      "cell_type": "code",
      "execution_count": null,
      "metadata": {
        "colab": {
          "base_uri": "https://localhost:8080/"
        },
        "id": "B96i4gCULd_X",
        "outputId": "3a8cf034-4c0d-4159-fc2f-dd468df823ee"
      },
      "outputs": [
        {
          "name": "stdout",
          "output_type": "stream",
          "text": [
            "Messages:\n",
            "- Hello, how are you?\n",
            "- I'm learning Python!\n",
            "- Functions are really useful.\n",
            "- Have a great day!\n",
            "\n",
            "Sending messages:\n",
            "Sending: Hello, how are you?\n",
            "Sending: I'm learning Python!\n",
            "Sending: Functions are really useful.\n",
            "Sending: Have a great day!\n",
            "\n",
            "Original messages list:\n",
            "['Hello, how are you?', \"I'm learning Python!\", 'Functions are really useful.', 'Have a great day!']\n",
            "\n",
            "Sent messages list:\n",
            "['Hello, how are you?', \"I'm learning Python!\", 'Functions are really useful.', 'Have a great day!']\n"
          ]
        }
      ],
      "source": [
        "def show_messages(messages):\n",
        "    \"\"\"Print all messages in the list.\"\"\"\n",
        "    print(\"Messages:\")\n",
        "    for message in messages:\n",
        "        print(f\"- {message}\")\n",
        "\n",
        "def send_messages(messages, sent_messages):\n",
        "    \"\"\"\n",
        "    Print each message and move it to sent_messages.\n",
        "    This function works with a copy of the original list.\n",
        "    \"\"\"\n",
        "    print(\"\\nSending messages:\")\n",
        "    while messages:\n",
        "        current_message = messages.pop(0)\n",
        "        print(f\"Sending: {current_message}\")\n",
        "        sent_messages.append(current_message)\n",
        "\n",
        "# Create a list of messages\n",
        "messages = [\n",
        "    \"Hello, how are you?\",\n",
        "    \"I'm learning Python!\",\n",
        "    \"Functions are really useful.\",\n",
        "    \"Have a great day!\"\n",
        "]\n",
        "\n",
        "# Create an empty list for sent messages\n",
        "sent_messages = []\n",
        "\n",
        "# Show the original messages\n",
        "show_messages(messages)\n",
        "\n",
        "# Send messages using a copy of the original list\n",
        "send_messages(messages[:], sent_messages)\n",
        "\n",
        "# Show that the original list still has all messages\n",
        "print(\"\\nOriginal messages list:\")\n",
        "print(messages)\n",
        "\n",
        "print(\"\\nSent messages list:\")\n",
        "print(sent_messages)"
      ]
    },
    {
      "cell_type": "markdown",
      "metadata": {
        "id": "WnRiXOHKDndA"
      },
      "source": [
        "8-12. Sandwiches: Write a function that accepts a list of items a person wants\n",
        "on a sandwich. The function should have one parameter that collects as many\n",
        "items as the function call provides, and it should print a summary of the sand\u0002wich that’s being ordered. Call the function three times, using a different num\u0002ber of arguments each time"
      ]
    },
    {
      "cell_type": "code",
      "execution_count": null,
      "metadata": {
        "colab": {
          "base_uri": "https://localhost:8080/"
        },
        "id": "7s689rgNDp6Z",
        "outputId": "f27ac47e-c62f-4e5b-f0a9-9ddf35e3b1ba"
      },
      "outputs": [
        {
          "name": "stdout",
          "output_type": "stream",
          "text": [
            "\n",
            "Making a sandwich with the following items:\n",
            "- turkey\n",
            "- lettuce\n",
            "- tomato\n",
            "- mayo\n",
            "Your sandwich is ready!\n",
            "\n",
            "Making a sandwich with the following items:\n",
            "- ham\n",
            "- cheese\n",
            "Your sandwich is ready!\n",
            "\n",
            "Making a sandwich with the following items:\n",
            "- peanut butter\n",
            "- jelly\n",
            "- banana\n",
            "- honey\n",
            "- cinnamon\n",
            "Your sandwich is ready!\n"
          ]
        }
      ],
      "source": [
        "def make_sandwich(*items):\n",
        "    \"\"\"\n",
        "    Create a sandwich with the provided items.\n",
        "\n",
        "    Args:\n",
        "        *items: Variable number of items to include in the sandwich\n",
        "    \"\"\"\n",
        "    print(\"\\nMaking a sandwich with the following items:\")\n",
        "    if items:\n",
        "        for item in items:\n",
        "            print(f\"- {item}\")\n",
        "        print(\"Your sandwich is ready!\")\n",
        "    else:\n",
        "        print(\"You ordered an empty sandwich!\")\n",
        "\n",
        "# Call the function with different numbers of arguments\n",
        "make_sandwich('turkey', 'lettuce', 'tomato', 'mayo')\n",
        "make_sandwich('ham', 'cheese')\n",
        "make_sandwich('peanut butter', 'jelly', 'banana', 'honey', 'cinnamon')\n"
      ]
    },
    {
      "cell_type": "markdown",
      "metadata": {
        "id": "SujmXEw9DqMU"
      },
      "source": [
        "8-13. User Profile: Start with a copy of user_profile.py from page 148. Build a\n",
        "profile of yourself by calling build_profile(), using your first and last names\n",
        "and three other key-value pairs that describe you."
      ]
    },
    {
      "cell_type": "code",
      "execution_count": null,
      "metadata": {
        "colab": {
          "base_uri": "https://localhost:8080/"
        },
        "id": "gvAb8vemDtDI",
        "outputId": "68f08a98-36fa-449f-9f91-4d4c8df3aa60"
      },
      "outputs": [
        {
          "name": "stdout",
          "output_type": "stream",
          "text": [
            "{'first_name': 'John', 'last_name': 'Doe', 'occupation': 'Software Developer', 'location': 'New York', 'hobby': 'Playing guitar'}\n"
          ]
        }
      ],
      "source": [
        "def build_profile(first, last, **user_info):\n",
        "    \"\"\"Build a dictionary containing everything we know about a user.\"\"\"\n",
        "    profile = {}\n",
        "    profile['first_name'] = first\n",
        "    profile['last_name'] = last\n",
        "    for key, value in user_info.items():\n",
        "        profile[key] = value\n",
        "    return profile\n",
        "\n",
        "# Build my profile with first name, last name, and three other key-value pairs\n",
        "my_profile = build_profile('John', 'Doe',\n",
        "                          occupation='Software Developer',\n",
        "                          location='New York',\n",
        "                          hobby='Playing guitar')\n",
        "\n",
        "# Display the profile\n",
        "print(my_profile)\n"
      ]
    },
    {
      "cell_type": "markdown",
      "metadata": {
        "id": "4th4SDeKDtj3"
      },
      "source": [
        "8-14. Cars: Write a function that stores information about a car in a diction\u0002ary. The function should always receive a manufacturer and a model name. It\n",
        "should then accept an arbitrary number of keyword arguments. Call the func\u0002tion with the required information and two other name-value pairs, such as a\n",
        "color or an optional feature. Your function should work for a call like this one:\n",
        "car = make_car('subaru', 'outback', color='blue', tow_package=True)\n",
        "Print the dictionary that’s returned to make sure all the information was\n",
        "stored correctly."
      ]
    },
    {
      "cell_type": "code",
      "execution_count": null,
      "metadata": {
        "colab": {
          "background_save": true
        },
        "id": "arEOvun2DyMT",
        "outputId": "e1e8cead-ef4f-4cdb-b922-d07102cac5e0"
      },
      "outputs": [
        {
          "name": "stdout",
          "output_type": "stream",
          "text": [
            "{'manufacturer': 'subaru', 'model': 'outback', 'color': 'blue', 'tow_package': True}\n"
          ]
        }
      ],
      "source": [
        "def make_car(manufacturer, model, **options):\n",
        "    \"\"\"\n",
        "    Create a dictionary containing information about a car.\n",
        "\n",
        "    Args:\n",
        "        manufacturer (str): The car manufacturer\n",
        "        model (str): The car model name\n",
        "        **options: Arbitrary keyword arguments for additional car details\n",
        "\n",
        "    Returns:\n",
        "        dict: A dictionary containing all car information\n",
        "    \"\"\"\n",
        "    car_dict = {\n",
        "        'manufacturer': manufacturer,\n",
        "        'model': model\n",
        "    }\n",
        "\n",
        "    # Add any additional options to the dictionary\n",
        "    for key, value in options.items():\n",
        "        car_dict[key] = value\n",
        "\n",
        "    return car_dict\n",
        "\n",
        "\n",
        "# Example usage\n",
        "car = make_car('subaru', 'outback', color='blue', tow_package=True)\n",
        "print(car)\n"
      ]
    },
    {
      "cell_type": "markdown",
      "metadata": {
        "id": "Swx0UId8ck7y"
      },
      "source": [
        "8-15. Printing Models: Put the functions for the example printing_models.py in a\n",
        "separate file called printing_functions.py. Write an import statement at the top\n",
        "of printing_models.py, and modify the file to use the imported functions."
      ]
    },
    {
      "cell_type": "code",
      "execution_count": null,
      "metadata": {
        "id": "atQ0Gxv4cmJr"
      },
      "outputs": [],
      "source": []
    },
    {
      "cell_type": "markdown",
      "metadata": {
        "id": "zHzsqsHqcmaK"
      },
      "source": [
        "8-16. Imports: Using a program you wrote that has one function in it, store that\n",
        "function in a separate file. Import the function into your main program file, and\n",
        "call the function using each of these approaches:\n",
        "import module_name\n",
        "from module_name import function_name\n",
        "from module_name import function_name as fn\n",
        "import module_name as mn\n",
        "from module_name import *"
      ]
    },
    {
      "cell_type": "code",
      "execution_count": null,
      "metadata": {
        "id": "bX6Ltxcrcpc-"
      },
      "outputs": [],
      "source": []
    },
    {
      "cell_type": "markdown",
      "metadata": {
        "id": "Bf9ajCwTcsJ5"
      },
      "source": [
        "8-17. Styling Functions: Choose any three programs you wrote for this chapter,\n",
        "and make sure they follow the styling guidelines described in this section."
      ]
    },
    {
      "cell_type": "code",
      "execution_count": null,
      "metadata": {
        "id": "XJzcuqq3ctbU"
      },
      "outputs": [],
      "source": []
    }
  ],
  "metadata": {
    "colab": {
      "provenance": [],
      "authorship_tag": "ABX9TyMW8EFI4kXQQUQPJLY5t5cQ",
      "include_colab_link": true
    },
    "kernelspec": {
      "display_name": "Python 3",
      "name": "python3"
    },
    "language_info": {
      "name": "python"
    }
  },
  "nbformat": 4,
  "nbformat_minor": 0
}