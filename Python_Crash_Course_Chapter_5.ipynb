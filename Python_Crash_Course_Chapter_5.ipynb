{
  "nbformat": 4,
  "nbformat_minor": 0,
  "metadata": {
    "colab": {
      "provenance": [],
      "authorship_tag": "ABX9TyPc4TSMqGX8OWmeCqrhB7/p",
      "include_colab_link": true
    },
    "kernelspec": {
      "name": "python3",
      "display_name": "Python 3"
    },
    "language_info": {
      "name": "python"
    }
  },
  "cells": [
    {
      "cell_type": "markdown",
      "metadata": {
        "id": "view-in-github",
        "colab_type": "text"
      },
      "source": [
        "<a href=\"https://colab.research.google.com/github/taraenayati/Python-crash-course/blob/main/Python_Crash_Course_Chapter_5.ipynb\" target=\"_parent\"><img src=\"https://colab.research.google.com/assets/colab-badge.svg\" alt=\"Open In Colab\"/></a>"
      ]
    },
    {
      "cell_type": "markdown",
      "source": [
        "5-1. Conditional Tests: Write a series of conditional tests. Print a statement\n",
        "describing each test and your prediction for the results of each test. Your code\n",
        "should look something like this:\n",
        "car = 'subaru'\n",
        "print(\"Is car == 'subaru'? I predict True.\")\n",
        "print(car == 'subaru')\n",
        "print(\"\\nIs car == 'audi'? I predict False.\")\n",
        "print(car == 'audi')\n",
        "• Look closely at your results, and make sure you understand why each line\n",
        "evaluates to True or False.\n",
        "• Create at least 10 tests. Have at least 5 tests evaluate to True and another\n",
        "5 tests evaluate to False."
      ],
      "metadata": {
        "id": "tU7JNtFdQA4e"
      }
    },
    {
      "cell_type": "code",
      "source": [
        "car = 'subaru'\n",
        "print(\"Is car == 'subaru'? I predict True.\")\n",
        "print(car == 'subaru')\n",
        "\n",
        "print(\"\\nIs car == 'audi'? I predict False.\")\n",
        "print(car == 'audi')\n",
        "\n",
        "print(\"\\nIs car != 'toyota'? I predict True.\")\n",
        "print(car != 'toyota')\n",
        "\n",
        "print(\"\\nIs car.lower() == 'subaru'? I predict True.\")\n",
        "print(car.lower() == 'subaru')\n",
        "\n",
        "print(\"\\nIs car.upper() == 'SUBARU'? I predict True.\")\n",
        "print(car.upper() == 'SUBARU')\n",
        "\n",
        "print(\"\\nIs len(car) == 6? I predict True.\")\n",
        "print(len(car) == 6)\n",
        "\n",
        "print(\"\\nIs car.startswith('su')? I predict True.\")\n",
        "print(car.startswith('su'))\n",
        "\n",
        "print(\"\\nIs car.endswith('aru')? I predict True.\")\n",
        "print(car.endswith('aru'))\n",
        "\n",
        "\n",
        "print(\"\\nIs car == 'Subaru'? I predict False.\")\n",
        "print(car == 'Subaru')\n",
        "\n",
        "print(\"\\nIs car == 'Audi'? I predict False.\")\n",
        "print(car == 'Audi')"
      ],
      "metadata": {
        "colab": {
          "base_uri": "https://localhost:8080/"
        },
        "id": "4b9x8RMQwh_Y",
        "outputId": "41e5a873-31b9-4530-ffc4-9a87ccc2f008"
      },
      "execution_count": 1,
      "outputs": [
        {
          "output_type": "stream",
          "name": "stdout",
          "text": [
            "Is car == 'subaru'? I predict True.\n",
            "True\n",
            "\n",
            "Is car == 'audi'? I predict False.\n",
            "False\n",
            "\n",
            "Is car != 'toyota'? I predict True.\n",
            "True\n",
            "\n",
            "Is car.lower() == 'subaru'? I predict True.\n",
            "True\n",
            "\n",
            "Is car.upper() == 'SUBARU'? I predict True.\n",
            "True\n",
            "\n",
            "Is len(car) == 6? I predict True.\n",
            "True\n",
            "\n",
            "Is car.startswith('su')? I predict True.\n",
            "True\n",
            "\n",
            "Is car.endswith('aru')? I predict True.\n",
            "True\n",
            "\n",
            "Is car == 'Subaru'? I predict False.\n",
            "False\n",
            "\n",
            "Is car == 'Audi'? I predict False.\n",
            "False\n"
          ]
        }
      ]
    },
    {
      "cell_type": "markdown",
      "source": [
        "5-2. More Conditional Tests: You don’t have to limit the number of tests you create to 10. If you want to try more comparisons, write more tests and add them\n",
        "to conditional_tests.py. Have at least one True and one False result for each of\n",
        "the following:\n",
        "• Tests for equality and inequality with strings\n",
        "• Tests using the lower() method\n",
        "• Numerical tests involving equality and inequality, greater than and less\n",
        "than, greater than or equal to, and less than or equal to\n",
        "• Tests using the and keyword and the or keyword\n",
        "• Test whether an item is in a list\n",
        "• Test whether an item is not in a list"
      ],
      "metadata": {
        "id": "boGCWqPdwEFz"
      }
    },
    {
      "cell_type": "code",
      "source": [
        "string1 = \"hello\"\n",
        "string2 = \"world\"\n",
        "\n",
        "print(\"\\nIs string1 == string2? I predict False.\")\n",
        "print(string1 == string2)\n",
        "\n",
        "print(\"\\nIs string1 != string2? I predict True.\")\n",
        "print(string1 != string2)\n",
        "\n",
        "\n",
        "# Tests using the lower() method\n",
        "string3 = \"PYTHON\"\n",
        "print(\"\\nIs string3.lower() == 'python'? I predict True.\")\n",
        "print(string3.lower() == 'python')\n",
        "\n",
        "print(\"\\nIs string3.lower() == 'PYTHON'? I predict False.\")\n",
        "print(string3.lower() == 'PYTHON')\n",
        "\n",
        "\n",
        "# Numerical tests\n",
        "num1 = 10\n",
        "num2 = 5\n",
        "\n",
        "print(\"\\nIs num1 == num2? I predict False.\")\n",
        "print(num1 == num2)\n",
        "\n",
        "print(\"\\nIs num1 != num2? I predict True.\")\n",
        "print(num1 != num2)\n",
        "\n",
        "print(\"\\nIs num1 > num2? I predict True.\")\n",
        "print(num1 > num2)\n",
        "\n",
        "print(\"\\nIs num1 < num2? I predict False.\")\n",
        "print(num1 < num2)\n",
        "\n",
        "print(\"\\nIs num1 >= num2? I predict True.\")\n",
        "print(num1 >= num2)\n",
        "\n",
        "print(\"\\nIs num1 <= num2? I predict False.\")\n",
        "print(num1 <= num2)\n",
        "\n",
        "\n",
        "# Tests using the and keyword and the or keyword\n",
        "print(\"\\nIs num1 > 5 and num2 < 10? I predict True.\")\n",
        "print(num1 > 5 and num2 < 10)\n",
        "\n",
        "print(\"\\nIs num1 > 15 or num2 < 10? I predict True.\")\n",
        "print(num1 > 15 or num2 < 10)\n",
        "\n",
        "print(\"\\nIs num1 > 15 and num2 < 10? I predict False.\")\n",
        "print(num1 > 15 and num2 < 10)\n",
        "\n",
        "# Test whether an item is in a list\n",
        "my_list = [1, 2, 3, 4, 5]\n",
        "print(\"\\nIs 3 in my_list? I predict True.\")\n",
        "print(3 in my_list)\n",
        "\n",
        "print(\"\\nIs 6 in my_list? I predict False.\")\n",
        "print(6 in my_list)\n",
        "\n",
        "# Test whether an item is not in a list\n",
        "print(\"\\nIs 6 not in my_list? I predict True.\")\n",
        "print(6 not in my_list)\n",
        "\n",
        "print(\"\\nIs 3 not in my_list? I predict False.\")\n",
        "print(3 not in my_list)\n"
      ],
      "metadata": {
        "id": "cXmjK5RVwy78"
      },
      "execution_count": null,
      "outputs": []
    },
    {
      "cell_type": "markdown",
      "source": [
        "5-3. Alien Colors #1: Imagine an alien was just shot down in a game. Create a\n",
        "variable called alien_color and assign it a value of 'green', 'yellow', or 'red'.\n",
        "• Write an if statement to test whether the alien’s color is green. If it is, print\n",
        "a message that the player just earned 5 points.\n",
        "• Write one version of this program that passes the if test and another that\n",
        "fails. (The version that fails will have no output."
      ],
      "metadata": {
        "id": "0JyFvy_Yw1Gu"
      }
    },
    {
      "cell_type": "code",
      "source": [
        "alien_color = 'green'\n",
        "\n",
        "if alien_color == 'green':\n",
        "    print(\"Congratulations! You just earned 5 points!\")\n",
        "\n",
        "alien_color = 'red'\n",
        "\n",
        "if alien_color == 'green':\n",
        "    print(\"Congratulations! You just earned 5 points!\")"
      ],
      "metadata": {
        "colab": {
          "base_uri": "https://localhost:8080/"
        },
        "id": "gUdgySZOxbyT",
        "outputId": "da23de01-9f78-4f64-8e53-09c984f4a042"
      },
      "execution_count": 2,
      "outputs": [
        {
          "output_type": "stream",
          "name": "stdout",
          "text": [
            "Congratulations! You just earned 5 points!\n"
          ]
        }
      ]
    },
    {
      "cell_type": "markdown",
      "source": [
        "5-4. Alien Colors #2: Choose a color for an alien as you did in Exercise 5-3,\n",
        "and write an if-else chain.\n",
        "• If the alien’s color is green, print a statement that the player just earned 5\n",
        "points for shooting the alien.\n",
        "• If the alien’s color isn’t green, print a statement that the player just earned\n",
        "10 points.\n",
        "• Write one version of this program that runs the if block and another that\n",
        "runs the else block"
      ],
      "metadata": {
        "id": "-fSJyKLKxU0z"
      }
    },
    {
      "cell_type": "code",
      "source": [
        "alien_color = \"green\"\n",
        "\n",
        "if alien_color == \"green\":\n",
        "    print(\"Congratulations! You just earned 5 points for shooting the alien.\")\n",
        "else:\n",
        "    print(\"Congratulations! You just earned 10 points.\")\n",
        "\n",
        "alien_color = \"red\""
      ],
      "metadata": {
        "id": "pFDgMVqOzBKa"
      },
      "execution_count": null,
      "outputs": []
    },
    {
      "cell_type": "markdown",
      "source": [
        "5-5. Alien Colors #3: Turn your if-else chain from Exercise 5-4 into an if-elif\u0002else chain.\n",
        "• If the alien is green, print a message that the player earned 5 points.\n",
        "• If the alien is yellow, print a message that the player earned 10 points.\n",
        "• If the alien is red, print a message that the player earned 15 points.\n",
        "• Write three versions of this program, making sure each message is printed\n",
        "for the appropriate color alien."
      ],
      "metadata": {
        "id": "XogLk__8xWU-"
      }
    },
    {
      "cell_type": "code",
      "source": [
        "print(\"Please select an option:\")\n",
        "print(\"1. Green\")\n",
        "print(\"2. Yellow\")\n",
        "print(\"3. Red\")\n",
        "\n",
        "option = input(\"Enter the number of your choice: \")\n",
        "\n",
        "if alien_color == \"green\":\n",
        "    print(\"Congratulations! You just earned 5 points.\")\n",
        "elif alien_color == \"yellow\":\n",
        "    print(\"Congratulations! You just earned 10 points.\")\n",
        "elif alien_color == \"red\":\n",
        "    print(\"Congratulations! You just earned 15 points.\")\n",
        "else:\n",
        "    print(\"Invalid alien color.\")"
      ],
      "metadata": {
        "colab": {
          "base_uri": "https://localhost:8080/"
        },
        "id": "hQ5Z7SgWxc6Y",
        "outputId": "d12a7518-0ffa-4726-c3a9-fca115a4597e"
      },
      "execution_count": 4,
      "outputs": [
        {
          "output_type": "stream",
          "name": "stdout",
          "text": [
            "Please select an option:\n",
            "1. Green\n",
            "2. Yellow\n",
            "3. Red\n",
            "Enter the number of your choice: green\n",
            "Congratulations! You just earned 5 points.\n"
          ]
        }
      ]
    },
    {
      "cell_type": "markdown",
      "source": [
        "5-6. Stages of Life: Write an if-elif-else chain that determines a person’s stage\n",
        "of life. Set a value for the variable age, and then:\n",
        "• If the person is less than 2 years old, print a message that the person is\n",
        "a baby.\n",
        "• If the person is at least 2 years old but less than 4, print a message that the\n",
        "person is a toddler.\n",
        "• If the person is at least 4 years old but less than 13, print a message that\n",
        "the person is a kid.\n",
        "• If the person is at least 13 years old but less than 20, print a message that\n",
        "the person is a teenager.\n",
        "• If the person is at least 20 years old but less than 65, print a message that\n",
        "the person is an adult.\n",
        "• If the person is age 65 or older, print a message that the person is an elder"
      ],
      "metadata": {
        "id": "NTYW1Dx_xXyl"
      }
    },
    {
      "cell_type": "code",
      "source": [
        "age = int(input(\"Please enter your age: \"))\n",
        "if age < 2:\n",
        "    print(\"You are a baby.\")\n",
        "elif age < 4:\n",
        "    print(\"You are a toddler.\")\n",
        "elif age < 13:\n",
        "    print(\"You are a kid.\")\n",
        "elif age < 20:\n",
        "    print(\"You are a teenager.\")\n",
        "elif age < 65:\n",
        "    print(\"You are an adult.\")\n",
        "else:\n",
        "    print(\"You are an elder.\")\n",
        "\n",
        ""
      ],
      "metadata": {
        "colab": {
          "base_uri": "https://localhost:8080/"
        },
        "id": "7ltRPIec2c1z",
        "outputId": "13ba8efc-f976-4f9e-9edc-5385e4e8b5d1"
      },
      "execution_count": 12,
      "outputs": [
        {
          "output_type": "stream",
          "name": "stdout",
          "text": [
            "Please enter your age: 25\n",
            "You are an adult.\n"
          ]
        }
      ]
    },
    {
      "cell_type": "markdown",
      "source": [
        "5-7. Favorite Fruit: Make a list of your favorite fruits, and then write a series of\n",
        "independent if statements that check for certain fruits in your list.\n",
        "• Make a list of your three favorite fruits and call it favorite_fruits.\n",
        "• Write five if statements. Each should check whether a certain kind of fruit\n",
        "is in your list. If the fruit is in your list, the if block should print a statement,\n",
        "such as You really like bananas!"
      ],
      "metadata": {
        "id": "NmUHIgcqxZxv"
      }
    },
    {
      "cell_type": "code",
      "source": [
        "favorite_fruits = ['banana', 'apple', 'mango']\n",
        "\n",
        "if 'banana' in favorite_fruits:\n",
        "    print(\"You really like bananas!\")\n",
        "\n",
        "if 'apple' in favorite_fruits:\n",
        "    print(\"You really like apples!\")\n",
        "\n",
        "if 'mango' in favorite_fruits:\n",
        "    print(\"You really like mangoes!\")\n",
        "\n",
        "if 'orange' in favorite_fruits:\n",
        "    print(\"You really like oranges!\")\n",
        "\n",
        "if 'strawberry' in favorite_fruits:\n",
        "    print(\"You really like strawberries!\")"
      ],
      "metadata": {
        "id": "xlCce4-33LmB"
      },
      "execution_count": null,
      "outputs": []
    },
    {
      "cell_type": "markdown",
      "source": [
        "5-8. Hello Admin: Make a list of five or more usernames, including the name\n",
        "'admin'. Imagine you are writing code that will print a greeting to each user\n",
        "after they log in to a website. Loop through the list, and print a greeting to\n",
        "each user.\n",
        "• If the username is 'admin', print a special greeting, such as Hello admin,\n",
        "would you like to see a status report?\n",
        "• Otherwise, print a generic greeting, such as Hello Jaden, thank you for\n",
        "logging in again."
      ],
      "metadata": {
        "id": "mtJdFFi-yWjE"
      }
    },
    {
      "cell_type": "code",
      "source": [
        "usernames = ['admin', 'jaden', 'katie', 'alex', 'sophia', 'mark']\n",
        "for username in usernames:\n",
        "  if username.lower() == 'admin':\n",
        "      print(f\"Hello {username}, would you like to see a status report?\")\n",
        "  else:\n",
        "      print(f\"Hello {username.title()}, thank you for logging in again!\")"
      ],
      "metadata": {
        "colab": {
          "base_uri": "https://localhost:8080/"
        },
        "id": "g8Y4WWxBynFN",
        "outputId": "095e16f7-560e-4685-f32f-5ad6429df495"
      },
      "execution_count": 19,
      "outputs": [
        {
          "output_type": "stream",
          "name": "stdout",
          "text": [
            "Hello admin, would you like to see a status report?\n",
            "Hello Jaden, thank you for logging in again!\n",
            "Hello Katie, thank you for logging in again!\n",
            "Hello Alex, thank you for logging in again!\n",
            "Hello Sophia, thank you for logging in again!\n",
            "Hello Mark, thank you for logging in again!\n"
          ]
        }
      ]
    },
    {
      "cell_type": "markdown",
      "source": [
        "5-9. No Users: Add an if test to hello_admin.py to make sure the list of users is\n",
        "not empty.\n",
        "• If the list is empty, print the message We need to find some users!\n",
        "• Remove all of the usernames from your list, and make sure the correct message is printed.\n",
        "\n"
      ],
      "metadata": {
        "id": "2rN-1j_ByXOK"
      }
    },
    {
      "cell_type": "code",
      "source": [
        "usernames = []\n",
        "\n",
        "if not usernames:\n",
        "    print(\"We need to find some users!\")\n",
        "else:\n",
        "    for username in usernames:\n",
        "        if username.lower() == 'admin':\n",
        "            print(f\"Hello {username}, would you like to see a status report?\")\n",
        "        else:\n",
        "            print(f\"Hello {username.title()}, thank you for logging in again!\")"
      ],
      "metadata": {
        "colab": {
          "base_uri": "https://localhost:8080/"
        },
        "id": "LLN2oJi9ynxd",
        "outputId": "02644547-f412-4e21-dc48-e0de699fc42f"
      },
      "execution_count": 25,
      "outputs": [
        {
          "output_type": "stream",
          "name": "stdout",
          "text": [
            "We need to find some users!\n"
          ]
        }
      ]
    },
    {
      "cell_type": "markdown",
      "source": [
        "5-10. Checking Usernames: Do the following to create a program that simulates\n",
        "how websites ensure that everyone has a unique username.\n",
        "• Make a list of five or more usernames called current_users.\n",
        "• Make another list of five usernames called new_users. Make sure one or\n",
        "two of the new usernames are also in the current_users list.\n",
        "• Loop through the new_users list to see if each new username has already\n",
        "been used. If it has, print a message that the person will need to enter a\n",
        "new username. If a username has not been used, print a message saying\n",
        "that the username is available.\n",
        "• Make sure your comparison is case insensitive. If 'John' has been used,\n",
        "'JOHN' should not be accepted. (To do this, you’ll need to make a copy of\n",
        "current_users containing the lowercase versions of all existing users.)"
      ],
      "metadata": {
        "id": "GBcE7qPbyXtb"
      }
    },
    {
      "cell_type": "code",
      "source": [
        "current_users = ['john', 'sarah', 'mike', 'emma', 'tom']\n",
        "\n",
        "\n",
        "new_users = ['JOHN', 'lisa', 'MIKE', 'rachel', 'emma']\n",
        "\n",
        "current_users_lower = [user.lower() for user in current_users]\n",
        "\n",
        "\n",
        "for new_user in new_users:\n",
        "\n",
        "    if new_user.lower() in current_users_lower:\n",
        "        print(f\"Sorry, '{new_user}' is already taken. Please enter a new username.\")\n",
        "    else:\n",
        "        print(f\"'{new_user}' is available!\")\n"
      ],
      "metadata": {
        "colab": {
          "base_uri": "https://localhost:8080/"
        },
        "id": "mxUzI42LyoXB",
        "outputId": "6ef0c564-a4b3-4d42-8109-31424cff2e4f"
      },
      "execution_count": 26,
      "outputs": [
        {
          "output_type": "stream",
          "name": "stdout",
          "text": [
            "Sorry, 'JOHN' is already taken. Please enter a new username.\n",
            "'lisa' is available!\n",
            "Sorry, 'MIKE' is already taken. Please enter a new username.\n",
            "'rachel' is available!\n",
            "Sorry, 'emma' is already taken. Please enter a new username.\n"
          ]
        }
      ]
    },
    {
      "cell_type": "markdown",
      "source": [
        "5-11. Ordinal Numbers: Ordinal numbers indicate their position in a list, such as\n",
        "1st or 2nd. Most ordinal numbers end in th, except 1, 2, and 3.\n",
        "• Store the numbers 1 through 9 in a list.\n",
        "• Loop through the list.\n",
        "• Use an if-elif-else chain inside the loop to print the proper ordinal ending\n",
        "for each number. Your output should read \"1st 2nd 3rd 4th 5th 6th 7th\n",
        "8th 9th\", and each result should be on a separate line.\n"
      ],
      "metadata": {
        "id": "6caja9O3yjxH"
      }
    },
    {
      "cell_type": "code",
      "source": [
        "numbers = list(range(1, 101))\n",
        "\n",
        "\n",
        "for number in numbers:\n",
        "    if number == 1:\n",
        "        print(f\"{number}st\")\n",
        "    elif number == 2:\n",
        "        print(f\"{number}nd\")\n",
        "    elif number == 3:\n",
        "        print(f\"{number}rd\")\n",
        "    else:\n",
        "        print(f\"{number}th\")"
      ],
      "metadata": {
        "colab": {
          "base_uri": "https://localhost:8080/"
        },
        "id": "mgOsIyZlyozz",
        "outputId": "d64be31f-ed0a-4d20-980d-a427773fd4fd"
      },
      "execution_count": 17,
      "outputs": [
        {
          "output_type": "stream",
          "name": "stdout",
          "text": [
            "1st\n",
            "2nd\n",
            "3rd\n",
            "4th\n",
            "5th\n",
            "6th\n",
            "7th\n",
            "8th\n",
            "9th\n",
            "10th\n",
            "11th\n",
            "12th\n",
            "13th\n",
            "14th\n",
            "15th\n",
            "16th\n",
            "17th\n",
            "18th\n",
            "19th\n",
            "20th\n",
            "21th\n",
            "22th\n",
            "23th\n",
            "24th\n",
            "25th\n",
            "26th\n",
            "27th\n",
            "28th\n",
            "29th\n",
            "30th\n",
            "31th\n",
            "32th\n",
            "33th\n",
            "34th\n",
            "35th\n",
            "36th\n",
            "37th\n",
            "38th\n",
            "39th\n",
            "40th\n",
            "41th\n",
            "42th\n",
            "43th\n",
            "44th\n",
            "45th\n",
            "46th\n",
            "47th\n",
            "48th\n",
            "49th\n",
            "50th\n",
            "51th\n",
            "52th\n",
            "53th\n",
            "54th\n",
            "55th\n",
            "56th\n",
            "57th\n",
            "58th\n",
            "59th\n",
            "60th\n",
            "61th\n",
            "62th\n",
            "63th\n",
            "64th\n",
            "65th\n",
            "66th\n",
            "67th\n",
            "68th\n",
            "69th\n",
            "70th\n",
            "71th\n",
            "72th\n",
            "73th\n",
            "74th\n",
            "75th\n",
            "76th\n",
            "77th\n",
            "78th\n",
            "79th\n",
            "80th\n",
            "81th\n",
            "82th\n",
            "83th\n",
            "84th\n",
            "85th\n",
            "86th\n",
            "87th\n",
            "88th\n",
            "89th\n",
            "90th\n",
            "91th\n",
            "92th\n",
            "93th\n",
            "94th\n",
            "95th\n",
            "96th\n",
            "97th\n",
            "98th\n",
            "99th\n",
            "100th\n"
          ]
        }
      ]
    }
  ]
}