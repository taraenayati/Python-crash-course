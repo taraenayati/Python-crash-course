{
  "nbformat": 4,
  "nbformat_minor": 0,
  "metadata": {
    "colab": {
      "provenance": [],
      "authorship_tag": "ABX9TyN/piJUNxXdg6rvnAPXek3Z",
      "include_colab_link": true
    },
    "kernelspec": {
      "name": "python3",
      "display_name": "Python 3"
    },
    "language_info": {
      "name": "python"
    }
  },
  "cells": [
    {
      "cell_type": "markdown",
      "metadata": {
        "id": "view-in-github",
        "colab_type": "text"
      },
      "source": [
        "<a href=\"https://colab.research.google.com/github/taraenayati/Python-crash-course/blob/main/Crash_Course_Python_Chapter_6.ipynb\" target=\"_parent\"><img src=\"https://colab.research.google.com/assets/colab-badge.svg\" alt=\"Open In Colab\"/></a>"
      ]
    },
    {
      "cell_type": "markdown",
      "source": [
        "6-1. Person: Use a dictionary to store information about a person you know.\n",
        "Store their first name, last name, age, and the city in which they live. You\n",
        "should have keys such as first_name, last_name, age, and city. Print each piece\n",
        "of information stored in your dictionary."
      ],
      "metadata": {
        "id": "DDxszgK74w48"
      }
    },
    {
      "cell_type": "code",
      "source": [
        "person = { 'first_name' : 'robert' , 'last_name' : 'smith' , 'age' : '38' , 'city' : 'new york'}\n",
        "print(person['first_name'].title())\n",
        "print(person['last_name'].title())\n",
        "print(person['age'])\n",
        "print(person['city'].title())"
      ],
      "metadata": {
        "id": "ENGWLC9zezS9"
      },
      "execution_count": null,
      "outputs": []
    },
    {
      "cell_type": "markdown",
      "source": [
        "6-2. Favorite Numbers: Use a dictionary to store people’s favorite numbers.\n",
        "Think of five names, and use them as keys in your dictionary. Think of a favorite\n",
        "Dictionaries   99\n",
        "number for each person, and store each as a value in your dictionary. Print\n",
        "each person’s name and their favorite number. For even more fun, poll a few\n",
        "friends and get some actual data for your program."
      ],
      "metadata": {
        "id": "SJLw9give0W-"
      }
    },
    {
      "cell_type": "code",
      "source": [
        "\n",
        "fav_numbers ={\n",
        "\n",
        "    'tara': '1',\n",
        "    'robert': '23',\n",
        "    'miranda': '85',\n",
        "    'jason': '55',\n",
        "    'leyla': '67',\n",
        "    }\n",
        "print(f\"Tara's favorite number is {fav_numbers['tara']}.\")\n",
        "print(f\"Robert's favorite number is {fav_numbers['robert']}.\")\n",
        "print(f\"Miranda's favorite number is {fav_numbers['miranda']}.\")\n",
        "print(f\"Jason's favorite number is {fav_numbers['jason']}.\")\n",
        "print(f\"Leyla's favorite number is {fav_numbers['leyla']}.\")\n"
      ],
      "metadata": {
        "colab": {
          "base_uri": "https://localhost:8080/"
        },
        "id": "ciq2TjtIfAUj",
        "outputId": "7da566ea-e662-49c7-dfda-04e8911443ec"
      },
      "execution_count": null,
      "outputs": [
        {
          "output_type": "stream",
          "name": "stdout",
          "text": [
            "Tara's favorite number is 1.\n",
            "Robert's favorite number is 23.\n",
            "Miranda's favorite number is 85.\n",
            "Jason's favorite number is 55.\n",
            "Leyla's favorite number is 67.\n"
          ]
        }
      ]
    },
    {
      "cell_type": "markdown",
      "source": [
        "6-3. Glossary: A Python dictionary can be used to model an actual dictionary.\n",
        "However, to avoid confusion, let’s call it a glossary.\n",
        "• Think of five programming words you’ve learned about in the previous\n",
        "chapters. Use these words as the keys in your glossary, and store their\n",
        "meanings as values.\n",
        "• Print each word and its meaning as neatly formatted output. You might\n",
        "print the word followed by a colon and then its meaning, or print the word\n",
        "on one line and then print its meaning indented on a second line. Use the\n",
        "newline character (\\n) to insert a blank line between each word-meaning\n",
        "pair in your output."
      ],
      "metadata": {
        "id": "xMxmGD2zhT42"
      }
    },
    {
      "cell_type": "code",
      "source": [
        "glossary = {\n",
        "    'string': 'A series of characters.',\n",
        "    'comment': 'A note in a program that the Python interpreter ignores.',\n",
        "    'list': 'A collection of items in a particular order.',\n",
        "    'loop': 'Work through a collection of items, one at a time' ,\n",
        "}\n",
        "\n",
        "print(f\"\\nstring: {glossary['string']}\")\n",
        "print(f\"\\ncomment: {glossary['comment']}\")\n",
        "print(f\"\\nlist: {glossary['list']}\")\n",
        "print(f\"\\nloop: {glossary['loop']}\")"
      ],
      "metadata": {
        "colab": {
          "base_uri": "https://localhost:8080/"
        },
        "id": "862lEVHsicNg",
        "outputId": "d8dd2581-3b8a-45ee-d23b-522c22656417"
      },
      "execution_count": null,
      "outputs": [
        {
          "output_type": "stream",
          "name": "stdout",
          "text": [
            "\n",
            "string: A series of characters.\n",
            "\n",
            "comment: A note in a program that the Python interpreter ignores.\n",
            "\n",
            "list: A collection of items in a particular order.\n",
            "\n",
            "loop: Work through a collection of items, one at a time\n"
          ]
        }
      ]
    },
    {
      "cell_type": "markdown",
      "source": [
        "6-4. Glossary 2: Now that you know how to loop through a dictionary, clean\n",
        "up the code from Exercise 6-3 (page 99) by replacing your series of print()\n",
        "calls with a loop that runs through the dictionary’s keys and values. When\n",
        "you’re sure that your loop works, add five more Python terms to your glossary.\n",
        "When you run your program again, these new words and meanings should\n",
        "automatically be included in the output."
      ],
      "metadata": {
        "id": "8NkleCvMideB"
      }
    },
    {
      "cell_type": "code",
      "source": [
        "glossary = {\n",
        "    'string': 'A series of characters.',\n",
        "    'comment': 'A note in a program that the Python interpreter ignores.',\n",
        "    'list': 'A collection of items in a particular order.',\n",
        "    'loop': 'Work through a collection of items, one at a time.' ,\n",
        "    'dictionary': \"A collection of key-value pairs.\",\n",
        "    'key': 'The first item in a key-value pair in a dictionary.',\n",
        "    'value': 'An item associated with a key in a dictionary.',\n",
        "    'conditional test': 'A comparison between two values.',\n",
        "    'float': 'A numerical value with a decimal component.',\n",
        "    'boolean expression': 'An expression that evaluates to True or False.',\n",
        "}\n",
        "\n",
        "for keys, values in glossary.items():\n",
        "  print(f\"\\n{keys}: {values}\")"
      ],
      "metadata": {
        "id": "fKwKCPvzGJ9Y"
      },
      "execution_count": null,
      "outputs": []
    },
    {
      "cell_type": "markdown",
      "source": [
        "6-5. Rivers: Make a dictionary containing three major rivers and the country\n",
        "each river runs through. One key-value pair might be 'nile': 'egypt'.\n",
        "• Use a loop to print a sentence about each river, such as The Nile runs\n",
        "through Egypt.\n",
        "• Use a loop to print the name of each river included in the dictionary.\n",
        "• Use a loop to print the name of each country included in the dictionary."
      ],
      "metadata": {
        "id": "SPRrLj2uGLM6"
      }
    },
    {
      "cell_type": "code",
      "source": [
        "rivers = {'nile': 'egypt', 'mississippi': 'united states', 'fraser': 'canada', 'kuskokwim': 'alaska', 'hamoon' : 'pakistan'}\n",
        "for river, country in rivers.items():\n",
        "    print(f\"\\nThe {river.title()} flows through {country.title()}.\")"
      ],
      "metadata": {
        "id": "tbpk9FBOIKvV",
        "outputId": "824463c5-8a45-4905-b5ea-ca4fc84cef20",
        "colab": {
          "base_uri": "https://localhost:8080/"
        }
      },
      "execution_count": null,
      "outputs": [
        {
          "output_type": "stream",
          "name": "stdout",
          "text": [
            "\n",
            "The Nile flows through Egypt.\n",
            "\n",
            "The Mississippi flows through United States.\n",
            "\n",
            "The Fraser flows through Canada.\n",
            "\n",
            "The Kuskokwim flows through Alaska.\n",
            "\n",
            "The Hamoon flows through Pakistan.\n"
          ]
        }
      ]
    },
    {
      "cell_type": "markdown",
      "source": [
        "6-6. Polling: Use the code in favorite_languages.py (page 96).\n",
        "• Make a list of people who should take the favorite languages poll. Include\n",
        "some names that are already in the dictionary and some that are not.\n",
        "• Loop through the list of people who should take the poll. If they have\n",
        "already taken the poll, print a message thanking them for responding.\n",
        "If they have not yet taken the poll, print a message inviting them to take\n",
        "the poll."
      ],
      "metadata": {
        "id": "SHU1CRQ6GVXZ"
      }
    },
    {
      "cell_type": "code",
      "source": [
        "favorite_languages = {\n",
        "    'tara':'java',\n",
        "    'jen':'python',\n",
        "    'sarah':'c',\n",
        "    'edward':'ruby',\n",
        "    'phil':'python',\n",
        "    'robert':'rust',\n",
        "}\n",
        "friends = ['tara', 'edward', 'robert']\n",
        "for name in favorite_languages.keys():\n",
        "    print(f\"Hi {name.title()}.\")\n",
        "    if name in friends:\n",
        "        print(f\"\\t{name.title()}, I see your favorite language is {favorite_languages[name].title()}!\")\n",
        "for name in sorted(favorite_languages.keys()):\n",
        " print(f\"\\n{name.title()}, thank you for taking the poll.\")\n",
        "new_friends = ['erin', 'tom' , 'leyla']\n",
        "for names in new_friends:\n",
        "  print(f\"\\n\" + names.title() + \", Please take our poll.\")\n",
        "\n",
        "\n",
        "print(\"\\nThe following languages have been mentioned:\")\n",
        "for language in favorite_languages.values():\n",
        " print(f\"\\n {language.title()}\")"
      ],
      "metadata": {
        "id": "b_hZpmj5MR9L"
      },
      "execution_count": null,
      "outputs": []
    },
    {
      "cell_type": "markdown",
      "source": [
        " 6-7. People: Start with the program you wrote for Exercise 6-1 (page 98). Make\n",
        "two new dictionaries representing different people, and store all three dictionar\n",
        "ies in a list called people. Loop through your list of people. As you loop through\n",
        "the list, print everything you know about each person."
      ],
      "metadata": {
        "id": "9vLd4RNxGW8J"
      }
    },
    {
      "cell_type": "code",
      "source": [
        "person1 = { 'first_name' : 'robert' , 'last_name' : 'smith' , 'age' : '38' , 'city' : 'new york'}\n",
        "person2 = { 'first_name' : 'tara' , 'last_name' : 'enayati' , 'age' : '25' , 'city' : 'sana'}\n",
        "person3 = { 'first_name' : 'michle' , 'last_name' : 'kim' , 'age' : '27' , 'city' : 'seoul'}\n",
        "\n",
        "people = [person1, person2, person3]\n",
        "\n",
        "for person in people:\n",
        "  print(f\"\\nFirst name: {person['first_name'].title()}\")\n",
        "  print(f\"Last name: {person['last_name'].title()}\")\n",
        "  print(f\"Age: {person['age']}\")\n",
        "  print(f\"City: {person['city'].title()}\")"
      ],
      "metadata": {
        "colab": {
          "base_uri": "https://localhost:8080/"
        },
        "id": "6mICQbGptd83",
        "outputId": "fe7d8d0e-d17d-4abb-9c62-df5678e08d15"
      },
      "execution_count": 1,
      "outputs": [
        {
          "output_type": "stream",
          "name": "stdout",
          "text": [
            "\n",
            "First name: Robert\n",
            "Last name: Smith\n",
            "Age: 38\n",
            "City: New York\n",
            "\n",
            "First name: Tara\n",
            "Last name: Enayati\n",
            "Age: 25\n",
            "City: Sana\n",
            "\n",
            "First name: Michle\n",
            "Last name: Kim\n",
            "Age: 27\n",
            "City: Seoul\n"
          ]
        }
      ]
    },
    {
      "cell_type": "markdown",
      "source": [
        "6-8. Pets: Make several dictionaries, where each dictionary represents a differ\n",
        "ent pet. In each dictionary, include the kind of animal and the owner’s name.\n",
        "Store these dictionaries in a list called pets. Next, loop through your list and as\n",
        "you do, print everything you know about each pet."
      ],
      "metadata": {
        "id": "S6DI9zzzGWQ_"
      }
    },
    {
      "cell_type": "code",
      "source": [
        "pets = []\n",
        "\n",
        "pet = {'animal_type': 'dog', 'owner_name': 'Tara'}\n",
        "pets.append(pet)\n",
        "\n",
        "pet = {'animal_type': 'cat', 'owner_name': 'Robert'}\n",
        "pets.append(pet)\n",
        "\n",
        "pet = {'animal_type': 'fish', 'owner_name': 'Leyla'}\n",
        "pets.append(pet)\n",
        "\n",
        "for pet in pets:\n",
        "  print(f\"\\nHere's what I know about {pet['owner_name']}'s pet:\")\n",
        "  for key, value in pet.items():\n",
        "    print(f\"\\t{key}: {value}\")\n"
      ],
      "metadata": {
        "id": "Q--sT0nNuA2h"
      },
      "execution_count": null,
      "outputs": []
    },
    {
      "cell_type": "markdown",
      "source": [
        " 6-9. Favorite Places: Make a dictionary called favorite_places. Think of three\n",
        "names to use as keys in the dictionary, and store one to three favorite places for\n",
        "each person. To make this exercise a bit more interesting, ask some friends to\n",
        "name a few of their favorite places. Loop through the dictionary, and print each\n",
        "person’s name and their favorite places."
      ],
      "metadata": {
        "id": "XvM7F5_-aH0H"
      }
    },
    {
      "cell_type": "code",
      "source": [
        "favorite_places = {\n",
        "    'tara': ['new york', 'moscow', 'pripyat',],\n",
        "    'robert': ['paris', 'los angeles','rome',],\n",
        "    'leyla': ['istanbul', 'teheran', 'bali'],\n",
        "}\n",
        "\n",
        "for name, places in favorite_places.items():\n",
        "    print(f\"\\n{name.title()}'s favorite places are:\")\n",
        "    for place in places:\n",
        "        print(f\"- {place.title()}\")"
      ],
      "metadata": {
        "id": "1i3KEyl5vFhF"
      },
      "execution_count": null,
      "outputs": []
    },
    {
      "cell_type": "markdown",
      "source": [
        " 6-10. Favorite Numbers: Modify your program from Exercise 6-2 (page 98) so\n",
        "each person can have more than one favorite number. Then print each person’s\n",
        "name along with their favorite numbers."
      ],
      "metadata": {
        "id": "ROgTu8YiaIGH"
      }
    },
    {
      "cell_type": "code",
      "source": [
        "fav_numbers = {\n",
        "    'tara': [1, 2, 3],\n",
        "    'robert': [23, 45, 67],\n",
        "    'miranda': [85, 90, 100],\n",
        "    'jason': [55, 11, 22],\n",
        "    'leyla': [67, 78, 89],\n",
        "}\n",
        "\n",
        "for name, numbers in fav_numbers.items():\n",
        "    print(f\"\\n{name.title()}'s favorite numbers are:\")\n",
        "    for number in numbers:\n",
        "        print(f\"- {number}\")\n"
      ],
      "metadata": {
        "colab": {
          "base_uri": "https://localhost:8080/"
        },
        "id": "aE21O2lxvH0P",
        "outputId": "96d905da-f4eb-41ee-a201-d5df729044ba"
      },
      "execution_count": 3,
      "outputs": [
        {
          "output_type": "stream",
          "name": "stdout",
          "text": [
            "\n",
            "Tara's favorite numbers are:\n",
            "- 1\n",
            "- 2\n",
            "- 3\n",
            "\n",
            "Robert's favorite numbers are:\n",
            "- 23\n",
            "- 45\n",
            "- 67\n",
            "\n",
            "Miranda's favorite numbers are:\n",
            "- 85\n",
            "- 90\n",
            "- 100\n",
            "\n",
            "Jason's favorite numbers are:\n",
            "- 55\n",
            "- 11\n",
            "- 22\n",
            "\n",
            "Leyla's favorite numbers are:\n",
            "- 67\n",
            "- 78\n",
            "- 89\n"
          ]
        }
      ]
    },
    {
      "cell_type": "markdown",
      "source": [
        " 6-11. Cities: Make a dictionary called cities. Use the names of three cities as\n",
        "keys in your dictionary. Create a dictionary of information about each city and\n",
        "include the country that the city is in, its approximate population, and one fact\n",
        "about that city. The keys for each city’s dictionary should be something like\n",
        "country, population, and fact. Print the name of each city and all of the infor\n",
        "mation you have stored about it."
      ],
      "metadata": {
        "id": "jNxXsP7OaIa_"
      }
    },
    {
      "cell_type": "code",
      "source": [
        "cities = {\n",
        "    'new york': {\n",
        "        'country': 'united states of america',\n",
        "        'population': 19_500_000,\n",
        "        'fact': 'New York was one of the original thirteen colonies that formed the United States.',\n",
        "    },\n",
        "    'chicago': {\n",
        "        'country': 'united states of america',\n",
        "        'population': 200_000,\n",
        "        'fact': 'The name ‘Chicago’ comes from an Algonquin word, shikaakwa, which means ‘wild onion’ or ‘wild garlic’ because of the wild leeks, onions, and ramps that used to grow here.\"',\n",
        "    },\n",
        "    'pripyat': {\n",
        "        'country': 'ukraine',\n",
        "        'population': 0,\n",
        "        'fact': 'Pripyat was founded in 1970 to house workers from the Chernobyl nuclear plant , After the Chernobyl disaster, Pripyat became a ghost town overnight, It will take 3,000 years for Pripyat to be considered safe for human habitation again.',\n",
        "    }\n",
        "}\n",
        "\n",
        "for city, city_info in cities.items():\n",
        "    print(\"\\nCity:\", city.title())\n",
        "    print(\"\\tCountry:\", city_info['country'].title())\n",
        "    print(\"\\tPopulation:\", city_info['population'])\n",
        "    print(\"\\tFact:\", city_info['fact'])\n"
      ],
      "metadata": {
        "colab": {
          "base_uri": "https://localhost:8080/"
        },
        "id": "VoJ6PVeoxwPL",
        "outputId": "ac71ba62-c76d-4ef8-98b5-9b3fa13493d8"
      },
      "execution_count": 6,
      "outputs": [
        {
          "output_type": "stream",
          "name": "stdout",
          "text": [
            "\n",
            "City: New York\n",
            "\tCountry: United States Of America\n",
            "\tPopulation: 19500000\n",
            "\tFact: New York was one of the original thirteen colonies that formed the United States.\n",
            "\n",
            "City: Chicago\n",
            "\tCountry: United States Of America\n",
            "\tPopulation: 200000\n",
            "\tFact: The name ‘Chicago’ comes from an Algonquin word, shikaakwa, which means ‘wild onion’ or ‘wild garlic’ because of the wild leeks, onions, and ramps that used to grow here.\"\n",
            "\n",
            "City: Pripyat\n",
            "\tCountry: Ukraine\n",
            "\tPopulation: 0\n",
            "\tFact: Pripyat was founded in 1970 to house workers from the Chernobyl nuclear plant , After the Chernobyl disaster, Pripyat became a ghost town overnight, It will take 3,000 years for Pripyat to be considered safe for human habitation again.\n"
          ]
        }
      ]
    },
    {
      "cell_type": "markdown",
      "source": [
        " 6-12. Extensions: We’re now working with examples that are complex enough\n",
        "that they can be extended in any number of ways. Use one of the example pro\n",
        "grams from this chapter, and extend it by adding new keys and values, chang\n",
        "ing the context of the program, or improving the formatting of the output."
      ],
      "metadata": {
        "id": "ebzkShS_aRDH"
      }
    },
    {
      "cell_type": "code",
      "source": [
        "cities = {\n",
        "    'new york': {\n",
        "        'country': 'united states of america',\n",
        "        'population': 19_500_000,\n",
        "        'fact': 'New York was one of the original thirteen colonies that formed the United States.',\n",
        "        'mayor': 'Eric Adams',\n",
        "        'area': '302.6 square miles'\n",
        "    },\n",
        "    'chicago': {\n",
        "        'country': 'united states of america',\n",
        "        'population': 2_746_388,\n",
        "        'fact': 'The name ‘Chicago’ comes from an Algonquin word, shikaakwa, which means ‘wild onion’ or ‘wild garlic’ because of the wild leeks, onions, and ramps that used to grow here.\"',\n",
        "        'mayor': 'Brandon Johnson',\n",
        "        'area': '227.3 square miles'\n",
        "    },\n",
        "    'pripyat': {\n",
        "        'country': 'ukraine',\n",
        "        'population': 0,\n",
        "        'fact': 'Pripyat was founded in 1970 to house workers from the Chernobyl nuclear plant , After the Chernobyl disaster, Pripyat became a ghost town overnight, It will take 3,000 years for Pripyat to be considered safe for human habitation again.',\n",
        "        'mayor': 'None (abandoned)',\n",
        "        'area': '10 square miles'\n",
        "    }\n",
        "}\n",
        "\n",
        "for city, city_info in cities.items():\n",
        "    print(\"\\nCity:\", city.title())\n",
        "    print(\"#\" * 40)\n",
        "    print(\"\\tCountry:\", city_info['country'].title())\n",
        "    print(\"\\tPopulation:\", city_info['population'])\n",
        "    print(\"\\tFact:\", city_info['fact'])\n",
        "    print(\"\\tMayor:\", city_info['mayor'])\n",
        "    print(\"\\tArea:\", city_info['area'])"
      ],
      "metadata": {
        "colab": {
          "base_uri": "https://localhost:8080/"
        },
        "id": "LQ59_DcvyEEv",
        "outputId": "0b544872-446f-4a06-98d6-9610fe51008b"
      },
      "execution_count": 9,
      "outputs": [
        {
          "output_type": "stream",
          "name": "stdout",
          "text": [
            "\n",
            "City: New York\n",
            "########################################\n",
            "\tCountry: United States Of America\n",
            "\tPopulation: 19500000\n",
            "\tFact: New York was one of the original thirteen colonies that formed the United States.\n",
            "\tMayor: Eric Adams\n",
            "\tArea: 302.6 square miles\n",
            "\n",
            "City: Chicago\n",
            "########################################\n",
            "\tCountry: United States Of America\n",
            "\tPopulation: 2746388\n",
            "\tFact: The name ‘Chicago’ comes from an Algonquin word, shikaakwa, which means ‘wild onion’ or ‘wild garlic’ because of the wild leeks, onions, and ramps that used to grow here.\"\n",
            "\tMayor: Brandon Johnson\n",
            "\tArea: 227.3 square miles\n",
            "\n",
            "City: Pripyat\n",
            "########################################\n",
            "\tCountry: Ukraine\n",
            "\tPopulation: 0\n",
            "\tFact: Pripyat was founded in 1970 to house workers from the Chernobyl nuclear plant , After the Chernobyl disaster, Pripyat became a ghost town overnight, It will take 3,000 years for Pripyat to be considered safe for human habitation again.\n",
            "\tMayor: None (abandoned)\n",
            "\tArea: 10 square miles\n"
          ]
        }
      ]
    }
  ]
}