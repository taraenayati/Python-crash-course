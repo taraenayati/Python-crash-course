{
  "cells": [
    {
      "cell_type": "markdown",
      "metadata": {
        "id": "view-in-github",
        "colab_type": "text"
      },
      "source": [
        "<a href=\"https://colab.research.google.com/github/taraenayati/Python-crash-course/blob/main/Python_Crash_Course_Chapter_7.ipynb\" target=\"_parent\"><img src=\"https://colab.research.google.com/assets/colab-badge.svg\" alt=\"Open In Colab\"/></a>"
      ]
    },
    {
      "cell_type": "code",
      "execution_count": null,
      "metadata": {
        "colab": {
          "base_uri": "https://localhost:8080/"
        },
        "id": "F17cWowmyehh",
        "outputId": "397755b6-cca1-4d63-cab5-286aa0fcde99"
      },
      "outputs": [
        {
          "name": "stdout",
          "output_type": "stream",
          "text": [
            "If you share your name, we can personalize the messages you see.\n",
            "What is your first name? tara\n",
            "\n",
            "Hello, tara!\n"
          ]
        }
      ],
      "source": [
        "prompt = \"If you share your name, we can personalize the messages you see.\"\n",
        "prompt += \"\\nWhat is your first name? \"\n",
        "name = input(prompt)\n",
        "print(f\"\\nHello, {name}!\")"
      ]
    },
    {
      "cell_type": "markdown",
      "metadata": {
        "id": "BAqYdmEhzILz"
      },
      "source": [
        "7-1. Rental Car: Write a program that asks the user what kind of rental car they\n",
        "would like. Print a message about that car, such as “Let me see if I can find you\n",
        "a Subaru.”\n"
      ]
    },
    {
      "cell_type": "code",
      "execution_count": null,
      "metadata": {
        "colab": {
          "base_uri": "https://localhost:8080/"
        },
        "id": "05SI68cUy5XC",
        "outputId": "634168ad-e151-4d83-dfb1-2d1d620dfdee"
      },
      "outputs": [
        {
          "name": "stdout",
          "output_type": "stream",
          "text": [
            "What kind of rental car you would like to have?lambo\n",
            "\n",
            " Let me see if I can find you an/a lambo!\n"
          ]
        }
      ],
      "source": [
        "car = input(\"What kind of rental car you would like to have?\")\n",
        "answer = (f\"\\n Let me see if I can find you an/a {car}!\")\n",
        "print(answer)"
      ]
    },
    {
      "cell_type": "markdown",
      "metadata": {
        "id": "1g6Dnb1UzT91"
      },
      "source": [
        "7-3. Multiples of Ten: Ask the user for a number, and then report whether the\n",
        "number is a multiple of 10 or not."
      ]
    },
    {
      "cell_type": "code",
      "execution_count": null,
      "metadata": {
        "colab": {
          "base_uri": "https://localhost:8080/"
        },
        "id": "lJNzwuf01Gf3",
        "outputId": "e37a8acc-5c33-43aa-c2c7-6cf2efe9a1ab"
      },
      "outputs": [
        {
          "name": "stdout",
          "output_type": "stream",
          "text": [
            "Give me a NUmber that you think it is a multiple of 10!200\n",
            "Your number is a multiple of 10!\n"
          ]
        }
      ],
      "source": [
        "number = int(input(\"Give me a NUmber that you think it is a multiple of 10!\"))\n",
        "if number % 10 == 0:\n",
        "  print(\"Your number is a multiple of 10!\")\n",
        "else:\n",
        "  print(\"I want you to try again and think about a number which is a multiple of 10!\")"
      ]
    },
    {
      "cell_type": "markdown",
      "metadata": {
        "id": "U3v0G6vl1EF9"
      },
      "source": [
        "7-2. Restaurant Seating: Write a program that asks the user how many people\n",
        "are in their dinner group. If the answer is more than eight, print a message say\u0002ing they’ll have to wait for a table. Otherwise, report that their table is ready."
      ]
    },
    {
      "cell_type": "code",
      "execution_count": null,
      "metadata": {
        "colab": {
          "base_uri": "https://localhost:8080/"
        },
        "id": "cDdChSAOzXii",
        "outputId": "ff1d41a6-ae64-4791-c8a5-a7e10360ed72"
      },
      "outputs": [
        {
          "name": "stdout",
          "output_type": "stream",
          "text": [
            "How many people are in your dinner group?4\n",
            "Your table is ready\n"
          ]
        }
      ],
      "source": [
        "person = int(input(\"How many people are in your dinner group?\"))\n",
        "if person > 8:\n",
        "  print(\"You have to wait for a table!\")\n",
        "else:\n",
        "  print(\"Your table is ready\")"
      ]
    },
    {
      "cell_type": "code",
      "execution_count": 31,
      "metadata": {
        "colab": {
          "base_uri": "https://localhost:8080/"
        },
        "id": "m5_Kn2332feL",
        "outputId": "59503a2a-717d-42f6-bdb2-c4aac1f75f1a"
      },
      "outputs": [
        {
          "name": "stdout",
          "output_type": "stream",
          "text": [
            "\n",
            "Tell me something, and I will repeat it back to you:\n",
            "Enter 'quit' to end the program. tara\n",
            "tara\n",
            "\n",
            "Tell me something, and I will repeat it back to you:\n",
            "Enter 'quit' to end the program. quit\n"
          ]
        }
      ],
      "source": [
        "prompt = \"\\nTell me something, and I will repeat it back to you:\"\n",
        "prompt += \"\\nEnter 'quit' to end the program. \"\n",
        "message = \"\"\n",
        "while message != 'quit':\n",
        " message = input(prompt)\n",
        " if message != 'quit':\n",
        "    print(message)\n",
        " else:\n",
        "    print"
      ]
    },
    {
      "cell_type": "markdown",
      "source": [
        "7-4. Pizza Toppings: Write a loop that prompts the user to enter a series of\n",
        "pizza toppings until they enter a 'quit' value. As they enter each topping, print\n",
        "a message saying you’ll add that topping to their pizza."
      ],
      "metadata": {
        "id": "z2QrBH66LfzQ"
      }
    },
    {
      "cell_type": "code",
      "source": [
        "prompt = \"\\nTell me your favorite pizza topping:\"\n",
        "prompt += \"\\nEnter 'quit' to end the program. \"\n",
        "message = \"\"\n",
        "while message != 'quit':\n",
        " message = input(prompt)\n",
        " if message != 'quit':\n",
        "    print(f\"I'll add {message} to your pizza!\")\n",
        " else:\n",
        "    print"
      ],
      "metadata": {
        "colab": {
          "base_uri": "https://localhost:8080/"
        },
        "id": "MJ3zza43LlHF",
        "outputId": "53b8efc5-e3e3-4da5-cb39-b28554610525"
      },
      "execution_count": 32,
      "outputs": [
        {
          "name": "stdout",
          "output_type": "stream",
          "text": [
            "\n",
            "Tell me your favorite pizza topping:\n",
            "Enter 'quit' to end the program. pepper \n",
            "I'll add pepper  to your pizza!\n",
            "\n",
            "Tell me your favorite pizza topping:\n",
            "Enter 'quit' to end the program. quit\n"
          ]
        }
      ]
    },
    {
      "cell_type": "markdown",
      "source": [
        "7-5. Movie Tickets: A movie theater charges different ticket prices depending on\n",
        "a person’s age. If a person is under the age of 3, the ticket is free; if they are\n",
        "between 3 and 12, the ticket is $10; and if they are over age 12, the ticket is\n",
        "$15. Write a loop in which you ask users their age, and then tell them the cost\n",
        "of their movie ticket."
      ],
      "metadata": {
        "id": "dEV4eUHJMER-"
      }
    },
    {
      "cell_type": "code",
      "source": [
        "age = int(input(\"How old are you?\"))\n",
        "if age < 3:\n",
        "  print(\"The ticket is free.\")\n",
        "elif age >= 3 and age <= 12:\n",
        "  print(\"The ticket is $10.\")\n",
        "else:\n",
        "  print(\"The ticket is $15.\")\n"
      ],
      "metadata": {
        "colab": {
          "base_uri": "https://localhost:8080/"
        },
        "id": "wenSAMkVMHUi",
        "outputId": "7c1578ee-a193-4e1d-806c-2a4315435dac"
      },
      "execution_count": 33,
      "outputs": [
        {
          "output_type": "stream",
          "name": "stdout",
          "text": [
            "How old are you?25\n",
            "The ticket is $15.\n"
          ]
        }
      ]
    },
    {
      "cell_type": "markdown",
      "source": [
        "7-6. Three Exits: Write different versions of either Exercise 7-4 or 7-5 that do\n",
        "each of the following at least once:\n",
        "• Use a conditional test in the while statement to stop the loop.\n",
        "• Use an active variable to control how long the loop runs.\n",
        "• Use a break statement to exit the loop when the user enters a 'quit' value."
      ],
      "metadata": {
        "id": "U_tSFSBlMnUW"
      }
    },
    {
      "cell_type": "code",
      "source": [
        "prompt = \"\\nTell me your favorite pizza topping:\"\n",
        "prompt += \"\\nEnter 'quit' to end the program. \"\n",
        "\n",
        "message = \"\"\n",
        "while message != 'quit':\n",
        "    message = input(prompt)\n",
        "    if message != 'quit':\n",
        "        print(f\"I'll add {message} to your pizza!\")\n",
        "    else:\n",
        "      print(\"OK, 👋\")"
      ],
      "metadata": {
        "colab": {
          "base_uri": "https://localhost:8080/"
        },
        "id": "dxeZJgG8OYtP",
        "outputId": "b05bf5d7-de3e-4b35-94ae-d5dd9efb2948"
      },
      "execution_count": 40,
      "outputs": [
        {
          "output_type": "stream",
          "name": "stdout",
          "text": [
            "\n",
            "Tell me your favorite pizza topping:\n",
            "Enter 'quit' to end the program. quit\n",
            "OK, 👋\n"
          ]
        }
      ]
    },
    {
      "cell_type": "code",
      "source": [
        "\n",
        "prompt = \"\\nTell me your favorite pizza topping:\"\n",
        "prompt += \"\\nEnter 'quit' to end the program. \"\n",
        "\n",
        "active = True\n",
        "while active:\n",
        "    message = input(prompt)\n",
        "    if message == 'quit':\n",
        "        active = False\n",
        "    else:\n",
        "        print(f\"I'll add {message} to your pizza!\")\n"
      ],
      "metadata": {
        "colab": {
          "base_uri": "https://localhost:8080/"
        },
        "id": "xU709a9jOqdm",
        "outputId": "42fca5b2-6a8d-41b7-9127-661bed78d12d"
      },
      "execution_count": 38,
      "outputs": [
        {
          "name": "stdout",
          "output_type": "stream",
          "text": [
            "\n",
            "Tell me your favorite pizza topping:\n",
            "Enter 'quit' to end the program. pepper\n",
            "I'll add pepper to your pizza!\n",
            "\n",
            "Tell me your favorite pizza topping:\n",
            "Enter 'quit' to end the program. quit\n"
          ]
        }
      ]
    },
    {
      "cell_type": "code",
      "source": [
        "prompt = \"\\nTell me your favorite pizza topping:\"\n",
        "prompt += \"\\nEnter 'quit' to end the program. \"\n",
        "\n",
        "while True:\n",
        "    message = input(prompt)\n",
        "    if message == 'quit':\n",
        "        break\n",
        "    else:\n",
        "        print(f\"I'll add {message} to your pizza!\")"
      ],
      "metadata": {
        "colab": {
          "base_uri": "https://localhost:8080/"
        },
        "id": "x9GHOVUeOvBm",
        "outputId": "611887fb-c71c-4061-d9e8-ae59c7a5d6f3"
      },
      "execution_count": 39,
      "outputs": [
        {
          "name": "stdout",
          "output_type": "stream",
          "text": [
            "\n",
            "Tell me your favorite pizza topping:\n",
            "Enter 'quit' to end the program. pepper\n",
            "I'll add pepper to your pizza!\n",
            "\n",
            "Tell me your favorite pizza topping:\n",
            "Enter 'quit' to end the program. quit\n"
          ]
        }
      ]
    },
    {
      "cell_type": "markdown",
      "source": [
        "7-7. Infinity: Write a loop that never ends, and run it. (To end the loop, press\n",
        "CTRL-C or close the window displaying the output."
      ],
      "metadata": {
        "id": "PkM7AtcGMqRL"
      }
    },
    {
      "cell_type": "code",
      "source": [
        "while True:\n",
        "  print(\"This loop will run forever!\")\n"
      ],
      "metadata": {
        "id": "J0n507HlPkWj"
      },
      "execution_count": null,
      "outputs": []
    },
    {
      "cell_type": "code",
      "source": [
        "unconfirmed_users = ['alice', 'brian', 'candace']\n",
        "confirmed_users = []\n",
        "while unconfirmed_users:\n",
        "  current_users = unconfirmed_users.pop()\n",
        "  print(f\"\\nVerifying user: {current_users.title()}\")\n",
        "  confirmed_users.append(current_users)\n",
        "  print(\"The following users have been confirmed:\")\n",
        "  for confirmed_user in confirmed_users:\n",
        "      print(confirmed_user.title())"
      ],
      "metadata": {
        "colab": {
          "base_uri": "https://localhost:8080/"
        },
        "id": "Fd0YnKp0TNOQ",
        "outputId": "0a9415b5-2e97-4f23-8af1-c108cd951b17"
      },
      "execution_count": 53,
      "outputs": [
        {
          "output_type": "stream",
          "name": "stdout",
          "text": [
            "\n",
            "Verifying user: Candace\n",
            "The following users have been confirmed:\n",
            "Candace\n",
            "\n",
            "Verifying user: Brian\n",
            "The following users have been confirmed:\n",
            "Candace\n",
            "Brian\n",
            "\n",
            "Verifying user: Alice\n",
            "The following users have been confirmed:\n",
            "Candace\n",
            "Brian\n",
            "Alice\n"
          ]
        }
      ]
    },
    {
      "cell_type": "markdown",
      "source": [
        "7-8. Deli: Make a list called sandwich_orders and fill it with the names of various\n",
        "sandwiches. Then make an empty list called finished_sandwiches. Loop through\n",
        "the list of sandwich orders and print a message for each order, such as I made\n",
        "your tuna sandwich. As each sandwich is made, move it to the list of finished\n",
        "sandwiches. After all the sandwiches have been made, print a message listing\n",
        "each sandwich that was made."
      ],
      "metadata": {
        "id": "Pn0vmXboSgxC"
      }
    },
    {
      "cell_type": "code",
      "source": [
        "sandwich_orders = ['tuna', 'pastrami', 'veggie', 'grilled cheese', 'pastrami', 'turkey', 'pastrami']\n",
        "finished_sandwiches = []\n",
        "\n",
        "print(\"I'm sorry, we're all out of pastrami today.\")\n",
        "while 'pastrami' in sandwich_orders:\n",
        "    sandwich_orders.remove('pastrami')\n",
        "\n",
        "while sandwich_orders:\n",
        "    current_sandwich = sandwich_orders.pop()\n",
        "    print(f\"I made your {current_sandwich} sandwich.\")\n",
        "    finished_sandwiches.append(current_sandwich)\n",
        "\n",
        "    print(\"\\nThe following sandwiches were made:\")\n",
        "    for sandwich in finished_sandwiches:\n",
        "        sandwich"
      ],
      "metadata": {
        "colab": {
          "base_uri": "https://localhost:8080/"
        },
        "id": "zGPzeHytTXz8",
        "outputId": "405a3f50-f96e-4de1-d4c3-cb6cd64d12d6"
      },
      "execution_count": 55,
      "outputs": [
        {
          "output_type": "stream",
          "name": "stdout",
          "text": [
            "I'm sorry, we're all out of pastrami today.\n",
            "I made your turkey sandwich.\n",
            "\n",
            "The following sandwiches were made:\n",
            "I made your grilled cheese sandwich.\n",
            "\n",
            "The following sandwiches were made:\n",
            "I made your veggie sandwich.\n",
            "\n",
            "The following sandwiches were made:\n",
            "I made your tuna sandwich.\n",
            "\n",
            "The following sandwiches were made:\n"
          ]
        }
      ]
    },
    {
      "cell_type": "markdown",
      "source": [
        "7-9. No Pastrami: Using the list sandwich_orders from Exercise 7-8, make sure\n",
        "the sandwich 'pastrami' appears in the list at least three times. Add code\n",
        "near the beginning of your program to print a message saying the deli has\n",
        "run out of pastrami, and then use a while loop to remove all occurrences of\n",
        "'pastrami' from sandwich_orders. Make sure no pastrami sandwiches end up\n",
        "in finished_sandwiches."
      ],
      "metadata": {
        "id": "OwHZwCYUS88n"
      }
    },
    {
      "cell_type": "code",
      "source": [
        "sandwich_orders = ['tuna', 'pastrami', 'veggie', 'grilled cheese', 'pastrami', 'turkey', 'pastrami']\n",
        "finished_sandwiches = []\n",
        "\n",
        "print(\"I'm sorry, we're all out of pastrami today.\")\n",
        "while 'pastrami' in sandwich_orders:\n",
        "    sandwich_orders.remove('pastrami')\n",
        "\n",
        "while sandwich_orders:\n",
        "    current_sandwich = sandwich_orders.pop()\n",
        "    print(f\"I made your {current_sandwich} sandwich.\")\n",
        "    finished_sandwiches.append(current_sandwich)\n",
        "\n",
        "    print(\"\\nThe following sandwiches were made:\")\n",
        "    for sandwich in finished_sandwiches:\n",
        "      sandwich"
      ],
      "metadata": {
        "colab": {
          "base_uri": "https://localhost:8080/"
        },
        "id": "YlFXIxC1T1t7",
        "outputId": "7fb2dabd-eef3-4920-a810-c9a6445eea6d"
      },
      "execution_count": 57,
      "outputs": [
        {
          "output_type": "stream",
          "name": "stdout",
          "text": [
            "I'm sorry, we're all out of pastrami today.\n",
            "I made your turkey sandwich.\n",
            "\n",
            "The following sandwiches were made:\n",
            "I made your grilled cheese sandwich.\n",
            "\n",
            "The following sandwiches were made:\n",
            "I made your veggie sandwich.\n",
            "\n",
            "The following sandwiches were made:\n",
            "I made your tuna sandwich.\n",
            "\n",
            "The following sandwiches were made:\n"
          ]
        }
      ]
    },
    {
      "cell_type": "markdown",
      "source": [
        "7-10. Dream Vacation: Write a program that polls users about their dream vaca\u0002tion. Write a prompt similar to If you could visit one place in the world, where\n",
        "would you go? Include a block of code that prints the results of the poll."
      ],
      "metadata": {
        "id": "PO1aSy8mTABf"
      }
    },
    {
      "cell_type": "code",
      "source": [
        "responses = {}\n",
        "\n",
        "polling_active = True\n",
        "\n",
        "while polling_active:\n",
        "    name = input(\"\\nWhat is your name? \")\n",
        "    response = input(\"If you could visit one place in the world, where would you go? \")\n",
        "\n",
        "    responses[name] = response\n",
        "\n",
        "    repeat = input(\"Would you like to let another person respond? (yes/ no) \")\n",
        "    if repeat.lower() == 'no':\n",
        "        polling_active = False\n",
        "\n",
        "    print(\"\\n--- Poll Results ---\")\n",
        "for name, response in responses.items():\n",
        "    print(f\"{name.title()} would like to visit {response.title()}.\")"
      ],
      "metadata": {
        "colab": {
          "base_uri": "https://localhost:8080/"
        },
        "id": "Eted4ziaULTt",
        "outputId": "75a438c5-4564-4599-a88b-c70c9197c200"
      },
      "execution_count": 59,
      "outputs": [
        {
          "output_type": "stream",
          "name": "stdout",
          "text": [
            "\n",
            "What is your name? Tara Enayati\n",
            "If you could visit one place in the world, where would you go? new york\n",
            "Would you like to let another person respond? (yes/ no) no\n",
            "\n",
            "--- Poll Results ---\n",
            "Tara Enayati would like to visit New York.\n"
          ]
        }
      ]
    }
  ],
  "metadata": {
    "colab": {
      "provenance": [],
      "authorship_tag": "ABX9TyOhi5+A9gSzowDtAKhdxLap",
      "include_colab_link": true
    },
    "kernelspec": {
      "display_name": "Python 3",
      "name": "python3"
    },
    "language_info": {
      "name": "python"
    }
  },
  "nbformat": 4,
  "nbformat_minor": 0
}