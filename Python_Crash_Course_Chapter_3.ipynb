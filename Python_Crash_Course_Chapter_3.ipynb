{
  "nbformat": 4,
  "nbformat_minor": 0,
  "metadata": {
    "colab": {
      "provenance": [],
      "authorship_tag": "ABX9TyO4gpawXJQjAc5b4hXfYPKS",
      "include_colab_link": true
    },
    "kernelspec": {
      "name": "python3",
      "display_name": "Python 3"
    },
    "language_info": {
      "name": "python"
    }
  },
  "cells": [
    {
      "cell_type": "markdown",
      "metadata": {
        "id": "view-in-github",
        "colab_type": "text"
      },
      "source": [
        "<a href=\"https://colab.research.google.com/github/taraenayati/Python-crash-course/blob/main/Python_Crash_Course_Chapter_3.ipynb\" target=\"_parent\"><img src=\"https://colab.research.google.com/assets/colab-badge.svg\" alt=\"Open In Colab\"/></a>"
      ]
    },
    {
      "cell_type": "markdown",
      "source": [
        " 3-1. Names: Store the names of a few of your friends in a list called names. Print\n",
        "each person’s name by accessing each element in the list, one at a time."
      ],
      "metadata": {
        "id": "tidrqVly8RS8"
      }
    },
    {
      "cell_type": "code",
      "execution_count": null,
      "metadata": {
        "colab": {
          "base_uri": "https://localhost:8080/"
        },
        "id": "MsLnrmRm8GiK",
        "outputId": "ed26bac7-73ae-4877-b8f7-206b5656216b"
      },
      "outputs": [
        {
          "output_type": "stream",
          "name": "stdout",
          "text": [
            "lara\n",
            "david\n",
            "hiva\n",
            "Robert\n"
          ]
        }
      ],
      "source": [
        "names = [\"lara\", \"david\", \"hiva\", \"Robert\" ]\n",
        "for name in names:\n",
        "  print(name)\n"
      ]
    },
    {
      "cell_type": "markdown",
      "source": [
        " 3-2. Greetings: Start with the list you used in Exercise 3-1, but instead of just\n",
        "printing each person’s name, print a message to them. The text of each mes\n",
        "sage should be the same, but each message should be personalized with the\n",
        "person’s name."
      ],
      "metadata": {
        "id": "5Jn6iEH9LEHy"
      }
    },
    {
      "cell_type": "code",
      "source": [
        "names = [\"lara\", \"david\", \"hiva\", \"Robert\" ]\n",
        "for name in names:\n",
        "  print(f\"Hello {name.title()}, how are you?\")\n"
      ],
      "metadata": {
        "colab": {
          "base_uri": "https://localhost:8080/"
        },
        "id": "QSuiV8yyLJBE",
        "outputId": "5402c972-dc9c-4c0d-c063-55f0654c3213"
      },
      "execution_count": null,
      "outputs": [
        {
          "output_type": "stream",
          "name": "stdout",
          "text": [
            "Hello Lara, how are you?\n",
            "Hello David, how are you?\n",
            "Hello Hiva, how are you?\n",
            "Hello Robert, how are you?\n"
          ]
        }
      ]
    },
    {
      "cell_type": "markdown",
      "source": [
        " 3-3. Your Own List: Think of your favorite mode of transportation, such as a\n",
        "motorcycle or a car, and make a list that stores several examples. Use your list\n",
        "to print a series of statements about these items, such as “I would like to own a\n",
        "Honda motorcycle.”"
      ],
      "metadata": {
        "id": "Gmi2hJaELhb1"
      }
    },
    {
      "cell_type": "code",
      "source": [
        "favorite_motorcycles = ['ducati','honda', 'yamaha', 'suzuki']\n",
        "for motorcycle in favorite_motorcycles:\n",
        "  print(f\"I would like to own a {motorcycle.title()} motorcycle.\")\n"
      ],
      "metadata": {
        "colab": {
          "base_uri": "https://localhost:8080/"
        },
        "id": "uNeZ5hNxL2qV",
        "outputId": "466bd4d5-23ab-4a28-d7ea-94338ddb8ae3"
      },
      "execution_count": null,
      "outputs": [
        {
          "output_type": "stream",
          "name": "stdout",
          "text": [
            "I would like to own a Ducati motorcycle.\n",
            "I would like to own a Honda motorcycle.\n",
            "I would like to own a Yamaha motorcycle.\n",
            "I would like to own a Suzuki motorcycle.\n"
          ]
        }
      ]
    },
    {
      "cell_type": "markdown",
      "source": [
        " 3-4. Guest List: If you could invite anyone, living or deceased, to dinner, who\n",
        "would you invite? Make a list that includes at least three people you’d like to\n",
        "invite to dinner. Then use your list to print a message to each person, inviting\n",
        "them to dinner"
      ],
      "metadata": {
        "id": "36ogsYKcMOvo"
      }
    },
    {
      "cell_type": "code",
      "source": [
        "guests = [\"artemis\",\"lora\",\"robert\",\"aria\",\"luka\"]\n",
        "for guest in guests:\n",
        "  print(f\"Dear {guest.title()} I would like to invite you to dinner.\")"
      ],
      "metadata": {
        "colab": {
          "base_uri": "https://localhost:8080/"
        },
        "id": "kkrwr-sDeRZx",
        "outputId": "c2bffaaa-6e32-4821-c54e-c2f5fb2cf017"
      },
      "execution_count": null,
      "outputs": [
        {
          "output_type": "stream",
          "name": "stdout",
          "text": [
            "Dear Artemis I would like to invite you to dinner.\n",
            "Dear Lora I would like to invite you to dinner.\n",
            "Dear Robert I would like to invite you to dinner.\n",
            "Dear Aria I would like to invite you to dinner.\n",
            "Dear Luka I would like to invite you to dinner.\n"
          ]
        }
      ]
    },
    {
      "cell_type": "markdown",
      "source": [
        "3-5. Changing Guest List: You just heard that one of your guests can’t make the\n",
        "dinner, so you need to send out a new set of invitations. You’ll have to think of\n",
        "someone else to invite.\n",
        " • Start with your program from Exercise 3-4. Add a print() call at the end of\n",
        "your program, stating the name of the guest who can’t make it.\n",
        " • Modify your list, replacing the name of the guest who can’t make it with the\n",
        "name of the new person you are inviting.\n",
        " • Print a second set of invitation messages, one for each person who is still in\n",
        "your list."
      ],
      "metadata": {
        "id": "6Gcy87FBU75_"
      }
    },
    {
      "cell_type": "code",
      "source": [
        "guests = [\"artemis\",\"lora\",\"robert\",\"aria\",\"luka\"]\n",
        "change_1 = guests[0] = \"diva\"\n",
        "change_2 = guests[3] = \"Matilda\"\n",
        "for guest in guests:\n",
        "  print(f\"Dear{guest.title()} I like to invite you to dinner.\")"
      ],
      "metadata": {
        "colab": {
          "base_uri": "https://localhost:8080/"
        },
        "id": "fAksNfB8U_2j",
        "outputId": "f3ac2f46-94a9-4ee0-d4f4-b0c8572e0204"
      },
      "execution_count": null,
      "outputs": [
        {
          "output_type": "stream",
          "name": "stdout",
          "text": [
            "DearDiva I like to invite you to dinner.\n",
            "DearLora I like to invite you to dinner.\n",
            "DearRobert I like to invite you to dinner.\n",
            "DearMatilda I like to invite you to dinner.\n",
            "DearLuka I like to invite you to dinner.\n"
          ]
        }
      ]
    },
    {
      "cell_type": "code",
      "source": [
        "guests = [\"artemis\",\"lora\",\"robert\",\"aria\",\"luka\"]\n",
        "print(f\"{guests[0].title()} can't make it to dinner.\")\n",
        "\n",
        "guests[0] = \"diva\"  # Replace Artemis with Diva\n",
        "\n",
        "for guest in guests:\n",
        "  print(f\"Dear {guest.title()}, I would like to invite you to dinner.\")\n"
      ],
      "metadata": {
        "colab": {
          "base_uri": "https://localhost:8080/"
        },
        "id": "3dKzD5IuWLa5",
        "outputId": "cd87c5ab-3ff3-4877-fefc-72c64dae9bfc"
      },
      "execution_count": null,
      "outputs": [
        {
          "output_type": "stream",
          "name": "stdout",
          "text": [
            "Artemis can't make it to dinner.\n",
            "Dear Diva, I would like to invite you to dinner.\n",
            "Dear Lora, I would like to invite you to dinner.\n",
            "Dear Robert, I would like to invite you to dinner.\n",
            "Dear Aria, I would like to invite you to dinner.\n",
            "Dear Luka, I would like to invite you to dinner.\n"
          ]
        }
      ]
    },
    {
      "cell_type": "markdown",
      "source": [
        " 3-6. More Guests: You just found a bigger dinner table, so now more space is\n",
        "available. Think of three more guests to invite to dinner.\n",
        " • Start with your program from Exercise 3-4 or 3-5. Add a print() call to the\n",
        "end of your program, informing people that you found a bigger table.\n",
        " • Use insert() to add one new guest to the beginning of your list.\n",
        " • Use insert() to add one new guest to the middle of your list.\n",
        " • Use append() to add one new guest to the end of your list.\n",
        " • Print a new set of invitation messages, one for each person in your list."
      ],
      "metadata": {
        "id": "i5mk9pavWccz"
      }
    },
    {
      "cell_type": "code",
      "source": [
        "guests = [\"diva\",\"lora\",\"robert\",\"matilda\",\"luka\"]\n",
        "guests.insert(3, \"mona\")\n",
        "guests.append(\"leyla\")\n",
        "for guest in guests:\n",
        "  print(f\"Dear {guest.title()}, I would like to invite you to dinner.\")"
      ],
      "metadata": {
        "colab": {
          "base_uri": "https://localhost:8080/"
        },
        "id": "DZW9_aBReNHt",
        "outputId": "d189c654-ef85-4777-ef75-390f827cfc32"
      },
      "execution_count": null,
      "outputs": [
        {
          "output_type": "stream",
          "name": "stdout",
          "text": [
            "Dear Diva, I would like to invite you to dinner.\n",
            "Dear Lora, I would like to invite you to dinner.\n",
            "Dear Robert, I would like to invite you to dinner.\n",
            "Dear Mona, I would like to invite you to dinner.\n",
            "Dear Matilda, I would like to invite you to dinner.\n",
            "Dear Luka, I would like to invite you to dinner.\n",
            "Dear Leyla, I would like to invite you to dinner.\n"
          ]
        }
      ]
    },
    {
      "cell_type": "markdown",
      "source": [
        "3-7. Shrinking Guest List: You just found out that your new dinner table won’t\n",
        "arrive in time for the dinner, and now you have space for only two guests.\n",
        " • Start with your program from Exercise 3-6. Add a new line that prints a\n",
        "message saying that you can invite only two people for dinner.\n",
        " • Use pop() to remove guests from your list one at a time until only two\n",
        "names remain in your list. Each time you pop a name from your list, print a\n",
        "message to that person letting them know you’re sorry you can’t invite them\n",
        "to dinner.\n",
        " • Print a message to each of the two people still on your list, letting them\n",
        "know they’re still invited.\n",
        " • Use del to remove the last two names from your list, so you have an empty\n",
        "list. Print your list to make sure you actually have an empty list at the end of\n",
        "your program."
      ],
      "metadata": {
        "id": "P4sc_HmdXeCu"
      }
    },
    {
      "cell_type": "code",
      "source": [
        "guests = [\"diva\",\"lora\",\"robert\",\"mona\",\"matilda\",\"luka\", \"leyla\"]\n",
        "print(\"I can only invite two people to dinner.\")\n",
        "\n",
        "removed_guests = []\n",
        "while len(guests) > 2:\n",
        "    removed_guest = guests.pop()\n",
        "    removed_guests.append(removed_guest)  # Keep track of removed guests\n",
        "    print(f\"Sorry, {removed_guest.title()}, I can't invite you to dinner.\")\n",
        "\n",
        "for guest in guests:\n",
        "    print(f\"Dear {guest.title()}, you're still invited to dinner.\")\n",
        "\n",
        "#Empty the list using del\n",
        "del guests[:]\n",
        "\n",
        "\n"
      ],
      "metadata": {
        "colab": {
          "base_uri": "https://localhost:8080/"
        },
        "id": "Z2H-JRmcbjL_",
        "outputId": "8be0c730-92b5-47c6-bcd0-f25e58fdfa4a"
      },
      "execution_count": null,
      "outputs": [
        {
          "output_type": "stream",
          "name": "stdout",
          "text": [
            "I can only invite two people to dinner.\n",
            "Sorry, Leyla, I can't invite you to dinner.\n",
            "Sorry, Luka, I can't invite you to dinner.\n",
            "Sorry, Matilda, I can't invite you to dinner.\n",
            "Sorry, Mona, I can't invite you to dinner.\n",
            "Sorry, Robert, I can't invite you to dinner.\n",
            "Dear Diva, you're still invited to dinner.\n",
            "Dear Lora, you're still invited to dinner.\n"
          ]
        }
      ]
    },
    {
      "cell_type": "markdown",
      "source": [
        "3-8. Seeing the World: Think of at least five places in the world you’d like  \n",
        "to visit.\n",
        " • Store the locations in a list. Make sure the list is not in alphabetical order.\n",
        " • Print your list in its original order. Don’t worry about printing the list neatly;\n",
        "just print it as a raw Python list.\n",
        " • Use sorted() to print your list in alphabetical order without modifying the\n",
        "actual list.\n",
        " • Show that your list is still in its original order by printing it.\n",
        " • Use sorted() to print your list in reverse-alphabetical order without chang\n",
        "ing the order of the original list.\n",
        " • Show that your list is still in its original order by printing it again.\n",
        " • Use reverse() to change the order of your list. Print the list to show that its\n",
        "order has changed.\n",
        " • Use reverse() to change the order of your list again. Print the list to show\n",
        "it’s back to its original order.\n",
        " • Use sort() to change your list so it’s stored in alphabetical order. Print the\n",
        "list to show that its order has been changed.\n",
        " • Use sort() to change your list so it’s stored in reverse-alphabetical order.\n",
        "Print the list to show that its order has changed"
      ],
      "metadata": {
        "id": "sgyUtANUcAsF"
      }
    },
    {
      "cell_type": "code",
      "source": [
        "places_to_visit = [\"America\", \"Austria\", \"Germany\", \"Egypt\", ]\n",
        "\n",
        "print(places_to_visit)\n",
        "\n",
        "print(sorted(places_to_visit))\n",
        "\n",
        "print(places_to_visit)\n",
        "\n",
        "print(sorted(places_to_visit, reverse=True))\n",
        "\n",
        "print(places_to_visit)\n",
        "\n",
        "places_to_visit.reverse()\n",
        "print(places_to_visit)\n",
        "\n",
        "places_to_visit.reverse()\n",
        "print(places_to_visit)\n",
        "\n",
        "places_to_visit.sort()\n",
        "print(places_to_visit)\n",
        "\n",
        "places_to_visit.sort(reverse=True)\n",
        "places_to_visit"
      ],
      "metadata": {
        "colab": {
          "base_uri": "https://localhost:8080/"
        },
        "id": "B4ukoFXXeGTE",
        "outputId": "ccf40f7a-7ebd-4826-a890-8fd28ecfab82"
      },
      "execution_count": null,
      "outputs": [
        {
          "output_type": "stream",
          "name": "stdout",
          "text": [
            "['America', 'Austria', 'Germany', 'Egypt']\n",
            "['America', 'Austria', 'Egypt', 'Germany']\n",
            "['America', 'Austria', 'Germany', 'Egypt']\n",
            "['Germany', 'Egypt', 'Austria', 'America']\n",
            "['America', 'Austria', 'Germany', 'Egypt']\n",
            "['Egypt', 'Germany', 'Austria', 'America']\n",
            "['America', 'Austria', 'Germany', 'Egypt']\n",
            "['America', 'Austria', 'Egypt', 'Germany']\n"
          ]
        },
        {
          "output_type": "execute_result",
          "data": {
            "text/plain": [
              "['Germany', 'Egypt', 'Austria', 'America']"
            ]
          },
          "metadata": {},
          "execution_count": 38
        }
      ]
    },
    {
      "cell_type": "markdown",
      "source": [
        " 3-9. Dinner Guests: Working with one of the programs from Exercises 3-4\n",
        "through 3-7 (pages 41–42), use len() to print a message indicating the number\n",
        "of people you’re inviting to dinner."
      ],
      "metadata": {
        "id": "krgabo2veVal"
      }
    },
    {
      "cell_type": "code",
      "source": [
        "guests = [\"diva\",\"lora\",\"robert\",\"mona\",\"matilda\",\"luka\", \"leyla\"]\n",
        "print(\"I can only invite two people to dinner.\")\n",
        "\n",
        "removed_guests = []\n",
        "while len(guests) > 2:\n",
        "    removed_guest = guests.pop()\n",
        "    removed_guests.append(removed_guest)  # Keep track of removed guests\n",
        "    print(f\"Sorry, {removed_guest.title()}, I can't invite you to dinner.\")\n",
        "\n",
        "for guest in guests:\n",
        "    print(f\"Dear {guest.title()}, you're still invited to dinner.\")\n",
        "\n",
        "#Empty the list using del\n",
        "del guests[:]\n"
      ],
      "metadata": {
        "colab": {
          "base_uri": "https://localhost:8080/"
        },
        "id": "IPLicB1GeklS",
        "outputId": "a5c6e16c-a774-4a17-9c1b-0a2f9a4d1382"
      },
      "execution_count": null,
      "outputs": [
        {
          "output_type": "stream",
          "name": "stdout",
          "text": [
            "I can only invite two people to dinner.\n",
            "Sorry, Leyla, I can't invite you to dinner.\n",
            "Sorry, Luka, I can't invite you to dinner.\n",
            "Sorry, Matilda, I can't invite you to dinner.\n",
            "Sorry, Mona, I can't invite you to dinner.\n",
            "Sorry, Robert, I can't invite you to dinner.\n",
            "Dear Diva, you're still invited to dinner.\n",
            "Dear Lora, you're still invited to dinner.\n"
          ]
        }
      ]
    },
    {
      "cell_type": "markdown",
      "source": [],
      "metadata": {
        "id": "KXYi6EcGevHl"
      }
    },
    {
      "cell_type": "markdown",
      "source": [
        "3-10. Every Function: Think of things you could store in a list. For example, you\n",
        "could make a list of mountains, rivers, countries, cities, languages, or anything\n",
        "else you’d like. Write a program that creates a list containing these items and\n",
        "then uses each function introduced in this chapter at least once"
      ],
      "metadata": {
        "id": "gnRtwYitWWUv"
      }
    },
    {
      "cell_type": "code",
      "source": [
        "languages = [\"english\", \"persian\", \"kurdish\", \"hawrami\", \"italian\", \"russian\", \"hebrew\"]\n",
        "\n",
        "# Make a copy of the original list\n",
        "original_languages = languages.copy()\n",
        "\n",
        "removed_languages = []\n",
        "\n",
        "print(\"Initial languages:\", original_languages)\n",
        "print(\"Number of initial languages:\", len(original_languages))\n",
        "\n",
        "while len(languages) > 4:\n",
        "    removed_language = languages.pop()\n",
        "    removed_languages.append(removed_language)\n",
        "    print(f\"I can't speak in {removed_language.title()}, but I love to learn it.\")\n",
        "\n",
        "print(\"Fluent languages:\")\n",
        "for language in languages:\n",
        "    print(f\"I am fluent in {language.title()}.\")\n",
        "print(\"Number of fluent languages:\", len(languages))\n",
        "\n",
        "print(\"Removed languages:\", removed_languages)\n",
        "print(\"Number of removed languages:\", len(removed_languages))\n",
        "\n",
        "# Sorting both lists\n",
        "languages.sort()\n",
        "removed_languages.sort()\n",
        "\n",
        "print(\"Sorted fluent languages:\")\n",
        "for lang in languages:\n",
        "    print(f\"I am fluent in {lang.title()}.\")\n",
        "print(\"Sorted languages to learn:\")\n",
        "for lang in removed_languages:\n",
        "    print(f\"I can't speak in {lang.title()}, but I love to learn it.\")\n",
        "\n",
        "# Demonstrating count()\n",
        "print(\"Count of 'english' in fluent languages:\", languages.count('english'))\n",
        "print(\"Count of 'italian' in removed languages:\", removed_languages.count('italian'))\n",
        "\n",
        "# Demonstrating index()\n",
        "if 'persian' in languages:\n",
        "    print(\"Index of 'persian' in fluent languages:\", languages.index('persian'))\n",
        "else:\n",
        "    print(\"'persian' not in fluent languages\")\n",
        "\n",
        "# Clearing the list\n",
        "languages.clear()\n",
        "print(\"Languages list after clearing:\", languages)\n"
      ],
      "metadata": {
        "colab": {
          "base_uri": "https://localhost:8080/"
        },
        "id": "sWl2nfm-eAhJ",
        "outputId": "be93e5bb-ed85-4f43-b883-708d2d424d58"
      },
      "execution_count": null,
      "outputs": [
        {
          "output_type": "stream",
          "name": "stdout",
          "text": [
            "Initial languages: ['english', 'persian', 'kurdish', 'hawrami', 'italian', 'russian', 'hebrew']\n",
            "Number of initial languages: 7\n",
            "I can't speak in Hebrew, but I love to learn it.\n",
            "I can't speak in Russian, but I love to learn it.\n",
            "I can't speak in Italian, but I love to learn it.\n",
            "Fluent languages:\n",
            "I am fluent in English.\n",
            "I am fluent in Persian.\n",
            "I am fluent in Kurdish.\n",
            "I am fluent in Hawrami.\n",
            "Number of fluent languages: 4\n",
            "Removed languages: ['hebrew', 'russian', 'italian']\n",
            "Number of removed languages: 3\n",
            "Sorted fluent languages:\n",
            "I am fluent in English.\n",
            "I am fluent in Hawrami.\n",
            "I am fluent in Kurdish.\n",
            "I am fluent in Persian.\n",
            "Sorted languages to learn:\n",
            "I can't speak in Hebrew, but I love to learn it.\n",
            "I can't speak in Italian, but I love to learn it.\n",
            "I can't speak in Russian, but I love to learn it.\n",
            "Count of 'english' in fluent languages: 1\n",
            "Count of 'italian' in removed languages: 1\n",
            "Index of 'persian' in fluent languages: 3\n",
            "Languages list after clearing: []\n"
          ]
        }
      ]
    }
  ]
}