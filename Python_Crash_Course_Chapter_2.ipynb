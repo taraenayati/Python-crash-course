{
  "nbformat": 4,
  "nbformat_minor": 0,
  "metadata": {
    "colab": {
      "provenance": [],
      "authorship_tag": "ABX9TyOIPoXWhFx7izlaYD1+CE2x",
      "include_colab_link": true
    },
    "kernelspec": {
      "name": "python3",
      "display_name": "Python 3"
    },
    "language_info": {
      "name": "python"
    }
  },
  "cells": [
    {
      "cell_type": "markdown",
      "metadata": {
        "id": "view-in-github",
        "colab_type": "text"
      },
      "source": [
        "<a href=\"https://colab.research.google.com/github/taraenayati/Python-crash-course-chapter-2/blob/Python_Skills/Python_Crash_Course_Chapter_2.ipynb\" target=\"_parent\"><img src=\"https://colab.research.google.com/assets/colab-badge.svg\" alt=\"Open In Colab\"/></a>"
      ]
    },
    {
      "cell_type": "markdown",
      "source": [
        "*apostrophe*"
      ],
      "metadata": {
        "id": "noy1sqA-rfJS"
      }
    },
    {
      "cell_type": "code",
      "execution_count": null,
      "metadata": {
        "id": "23WC-NhKobxU"
      },
      "outputs": [],
      "source": [
        "message = \"One of Python's strengths is its diverse community.\"\n",
        "print(message)"
      ]
    },
    {
      "cell_type": "markdown",
      "source": [
        "Personal Message: Use a variable to represent a person’s name, and print\n",
        "a message to that person. Your message should be simple, such as, “Hello Eric,\n",
        "would you like to learn some Python today?”"
      ],
      "metadata": {
        "id": "njqIm2nwsaF3"
      }
    },
    {
      "cell_type": "code",
      "source": [
        "name = input(\"What is your name? \")\n",
        "print(f\"Hello {name} welcome!\")"
      ],
      "metadata": {
        "colab": {
          "base_uri": "https://localhost:8080/"
        },
        "id": "F7Aq6TRusZaN",
        "outputId": "3295971b-0976-4964-d693-b037d1156d44"
      },
      "execution_count": 1,
      "outputs": [
        {
          "output_type": "stream",
          "name": "stdout",
          "text": [
            "What is your name? Tara\n",
            "Hello Tara welcome!\n"
          ]
        }
      ]
    },
    {
      "cell_type": "markdown",
      "source": [
        " 2-4. Name Cases: Use a variable to represent a person’s name, and then print\n",
        "that person’s name in lowercase, uppercase, and title case."
      ],
      "metadata": {
        "id": "5IMsWeeGuDl9"
      }
    },
    {
      "cell_type": "code",
      "source": [
        "name = input(\"What is your name? \")\n",
        "print(name.lower())\n",
        "print(name.upper())\n",
        "print(name.title())"
      ],
      "metadata": {
        "colab": {
          "base_uri": "https://localhost:8080/"
        },
        "id": "HL_EO7dguFLj",
        "outputId": "35586d2c-0143-4be7-fb85-c2ba89c17ecf"
      },
      "execution_count": 4,
      "outputs": [
        {
          "output_type": "stream",
          "name": "stdout",
          "text": [
            "What is your name? Tara Enayati\n",
            "tara enayati\n",
            "TARA ENAYATI\n",
            "Tara Enayati\n"
          ]
        }
      ]
    },
    {
      "cell_type": "markdown",
      "source": [
        "2-5. Famous Quote: Find a quote from a famous person you admire. Print the\n",
        "quote and the name of its author. Your output should look something like the\n",
        "following, including the quotation marks:"
      ],
      "metadata": {
        "id": "_vbNJo2Ts-YU"
      }
    },
    {
      "cell_type": "code",
      "source": [
        "name = \"Albert Einstein\"\n",
        "quote = \"A person who never made a mistake never tried anything new.\"\n",
        "print(f'{name} once said, \"{quote}\"')\n",
        "#"
      ],
      "metadata": {
        "colab": {
          "base_uri": "https://localhost:8080/"
        },
        "id": "zCJ1xu9jtC4G",
        "outputId": "3e8cd831-817b-471a-b2c4-d3f6afd03de0"
      },
      "execution_count": 2,
      "outputs": [
        {
          "output_type": "stream",
          "name": "stdout",
          "text": [
            "Albert Einstein once said, \"A person who never made a mistake never tried anything new.\"\n"
          ]
        }
      ]
    },
    {
      "cell_type": "code",
      "source": [
        "name = \"Richard Feynman\"\n",
        "quote = \"I have no special talent. I am only passionately curious.\"\n",
        "print(f'{name} once said, \"{quote}\"')"
      ],
      "metadata": {
        "colab": {
          "base_uri": "https://localhost:8080/"
        },
        "id": "dAzB36hCtJTv",
        "outputId": "c90d9963-b816-4f7e-b509-3af9196018d8"
      },
      "execution_count": 3,
      "outputs": [
        {
          "output_type": "stream",
          "name": "stdout",
          "text": [
            "Richard Feynman once said, \"I have no special talent. I am only passionately curious.\"\n"
          ]
        }
      ]
    },
    {
      "cell_type": "markdown",
      "source": [
        " 2-6. Famous Quote 2: Repeat Exercise 2-5, but this time, represent the famous\n",
        "person’s name using a variable called famous_person. Then compose your mes\n",
        "sage and represent it with a new variable called message. Print your message."
      ],
      "metadata": {
        "id": "bH8PK5vat3ys"
      }
    },
    {
      "cell_type": "code",
      "source": [
        "famous_person = \"Albert Einstein\"\n",
        "message = f'{famous_person} once said, \"A person who never made a mistake never tried anything new.\"'\n",
        "print(message)"
      ],
      "metadata": {
        "id": "bmsEt80Htajo"
      },
      "execution_count": null,
      "outputs": []
    },
    {
      "cell_type": "markdown",
      "source": [
        " 2-7. Stripping Names: Use a variable to represent a person’s name, and\n",
        "include some whitespace characters at the beginning and end of the name.\n",
        "Make sure you use each character combination, \"\\t\" and \"\\n\", at least once.\n",
        " Print the name once, so the whitespace around the name is displayed.\n",
        "Then print the name using each of the three stripping functions, lstrip(),\n",
        "rstrip(), and strip()."
      ],
      "metadata": {
        "id": "NwY9rykpudTk"
      }
    },
    {
      "cell_type": "code",
      "source": [
        "name = input(\"What\\t is\\t your\\t name\\t?\\t \\n \")\n",
        "print(name.lstrip())\n",
        "print(name.rstrip())\n",
        "print(name.strip())\n"
      ],
      "metadata": {
        "colab": {
          "base_uri": "https://localhost:8080/"
        },
        "id": "C1o8iEOjugJV",
        "outputId": "a0b772fc-8d53-414e-94dc-ed8a35a00e47"
      },
      "execution_count": 6,
      "outputs": [
        {
          "output_type": "stream",
          "name": "stdout",
          "text": [
            "What\t is\t your\t name\t?\t \n",
            " tara\n",
            "tara\n",
            "tara\n",
            "tara\n"
          ]
        }
      ]
    },
    {
      "cell_type": "markdown",
      "source": [
        " 2-8. File Extensions: Python has a removesuffix() method that works exactly  \n",
        "like removeprefix(). Assign the value 'python_notes.txt' to a variable called\n",
        "filename. Then use the removesuffix() method to display the filename without\n",
        "the file extension, like some file browsers do."
      ],
      "metadata": {
        "id": "GKBRFSPLvQVx"
      }
    },
    {
      "cell_type": "code",
      "source": [
        "filename = \"go.python_notes.text\"\n",
        "filename = filename.removeprefix(\"go.\")\n",
        "print(filename.removesuffix(\".text\"))\n"
      ],
      "metadata": {
        "colab": {
          "base_uri": "https://localhost:8080/"
        },
        "id": "rzRCirvyvT74",
        "outputId": "7e4a4f2c-0749-43b5-cbe7-2f22b3a8587d"
      },
      "execution_count": 11,
      "outputs": [
        {
          "output_type": "stream",
          "name": "stdout",
          "text": [
            "python_notes\n"
          ]
        }
      ]
    },
    {
      "cell_type": "markdown",
      "source": [
        " 2-9. Number Eight: Write addition, subtraction, multiplication, and division\n",
        "operations that each result in the number 8. Be sure to enclose your operations\n",
        "in print() calls to see the results. You should create four lines that look like this:\n",
        " print(5+3)"
      ],
      "metadata": {
        "id": "iDSgLXFB0fgo"
      }
    },
    {
      "cell_type": "code",
      "source": [
        "print(5+3)\n",
        "print(10-2)\n",
        "print(9-1)\n",
        "print(4*2)\n",
        "print(4+4)\n",
        "print(6+2)"
      ],
      "metadata": {
        "colab": {
          "base_uri": "https://localhost:8080/"
        },
        "id": "_1qRf80i0mFL",
        "outputId": "ca1b9985-fb51-494f-b716-2797c784ed1f"
      },
      "execution_count": 13,
      "outputs": [
        {
          "output_type": "stream",
          "name": "stdout",
          "text": [
            "8\n",
            "8\n",
            "8\n",
            "8\n",
            "8\n",
            "8\n"
          ]
        }
      ]
    },
    {
      "cell_type": "markdown",
      "source": [
        " 2-10. Favorite Number: Use a variable to represent your favorite number. Then,\n",
        "using that variable, create a message that reveals your favorite number. Print\n",
        "that message."
      ],
      "metadata": {
        "id": "tTrH6biy1Aah"
      }
    },
    {
      "cell_type": "code",
      "source": [
        "FAVO_NUM = 1\n",
        "massage = f\"My favorite number is {FAVO_NUM}\"\n",
        "print(massage)"
      ],
      "metadata": {
        "colab": {
          "base_uri": "https://localhost:8080/"
        },
        "id": "mcfTg6ft1D7d",
        "outputId": "59df1ca9-f5fd-4fb3-9694-2d5e826f47ac"
      },
      "execution_count": 14,
      "outputs": [
        {
          "output_type": "stream",
          "name": "stdout",
          "text": [
            "My favorite number is 1\n"
          ]
        }
      ]
    },
    {
      "cell_type": "markdown",
      "source": [
        " 2-11. Adding Comments: Choose two of the programs you’ve written, and\n",
        "add at least one comment to each. If you don’t have anything specific to write\n",
        "because your programs are too simple at this point, just add your name and the\n",
        "current date at the top of each program file. Then write one sentence describing\n",
        "what the program does."
      ],
      "metadata": {
        "id": "LNx3GnHo1adQ"
      }
    },
    {
      "cell_type": "code",
      "source": [
        "FAVO_NUM = 1 #My favorite number will always stay the same.\n",
        "massage = f\"My favorite number is {FAVO_NUM}\"\n",
        "print(massage)\n",
        "\n",
        "# I wanted to remove both prefixes and suffixes for the sake of future projects in data_cleaning.\n",
        "filename = \"go.python_notes.text\"\n",
        "filename = filename.removeprefix(\"go.\")\n",
        "print(filename.removesuffix(\".text\"))"
      ],
      "metadata": {
        "id": "_I83jMUl1iwq"
      },
      "execution_count": null,
      "outputs": []
    },
    {
      "cell_type": "markdown",
      "source": [
        "Zen of Python"
      ],
      "metadata": {
        "id": "0-MKUWGx2Ckq"
      }
    },
    {
      "cell_type": "code",
      "source": [
        "import this"
      ],
      "metadata": {
        "colab": {
          "base_uri": "https://localhost:8080/"
        },
        "id": "LueZ9_jR2yRn",
        "outputId": "836eb671-e17a-446f-f6c1-e23bc53dad37"
      },
      "execution_count": 15,
      "outputs": [
        {
          "output_type": "stream",
          "name": "stdout",
          "text": [
            "The Zen of Python, by Tim Peters\n",
            "\n",
            "Beautiful is better than ugly.\n",
            "Explicit is better than implicit.\n",
            "Simple is better than complex.\n",
            "Complex is better than complicated.\n",
            "Flat is better than nested.\n",
            "Sparse is better than dense.\n",
            "Readability counts.\n",
            "Special cases aren't special enough to break the rules.\n",
            "Although practicality beats purity.\n",
            "Errors should never pass silently.\n",
            "Unless explicitly silenced.\n",
            "In the face of ambiguity, refuse the temptation to guess.\n",
            "There should be one-- and preferably only one --obvious way to do it.\n",
            "Although that way may not be obvious at first unless you're Dutch.\n",
            "Now is better than never.\n",
            "Although never is often better than *right* now.\n",
            "If the implementation is hard to explain, it's a bad idea.\n",
            "If the implementation is easy to explain, it may be a good idea.\n",
            "Namespaces are one honking great idea -- let's do more of those!\n"
          ]
        }
      ]
    },
    {
      "cell_type": "markdown",
      "source": [],
      "metadata": {
        "id": "pldJaqKu3Db-"
      }
    }
  ]
}